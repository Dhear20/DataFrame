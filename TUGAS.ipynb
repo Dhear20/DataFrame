{
 "cells": [
  {
   "cell_type": "code",
   "execution_count": 1,
   "metadata": {},
   "outputs": [
    {
     "name": "stdout",
     "output_type": "stream",
     "text": [
      "hello world\n"
     ]
    }
   ],
   "source": [
    "print (\"hello world\")"
   ]
  },
  {
   "cell_type": "code",
   "execution_count": 11,
   "metadata": {},
   "outputs": [
    {
     "name": "stdout",
     "output_type": "stream",
     "text": [
      "Nama : Dhea Rohana  \n",
      "Kelas : D \n",
      "Matkul : Pemograman Dasar \n",
      "Usia : 19 \n",
      "BB : 43.5\n"
     ]
    }
   ],
   "source": [
    "Nama = \"Dhea Rohana\"\n",
    "Kelas = \"D\"\n",
    "Matkul = \"Pemograman Dasar\"\n",
    "Usia = 19\n",
    "BB = 43.5\n",
    "print (f\"Nama : {Nama}  \\nKelas : {Kelas} \\nMatkul : {Matkul} \\nUsia : {Usia} \\nBB : {BB}\")"
   ]
  },
  {
   "cell_type": "code",
   "execution_count": 7,
   "metadata": {},
   "outputs": [
    {
     "name": "stdout",
     "output_type": "stream",
     "text": [
      "hasil : -10.988077698182865\n"
     ]
    }
   ],
   "source": [
    "a = 32\n",
    "b = 22\n",
    "c = 9\n",
    "d = 11\n",
    "e = 5\n",
    "hasil = a*b/c**e-d\n",
    "print (f\"hasil : {hasil}\")\n"
   ]
  },
  {
   "cell_type": "code",
   "execution_count": 2,
   "metadata": {},
   "outputs": [
    {
     "name": "stdout",
     "output_type": "stream",
     "text": [
      "hasil : 404366376960\n"
     ]
    }
   ],
   "source": [
    "a = 7\n",
    "b = 14\n",
    "c = 21\n",
    "d = 32\n",
    "e = 41\n",
    "f = 48\n",
    "g = 52\n",
    "h = 60\n",
    "hasil = 7*14*21*32*41*48*52*60\n",
    "print (f\"hasil : {hasil}\")\n"
   ]
  },
  {
   "cell_type": "code",
   "execution_count": 1,
   "metadata": {},
   "outputs": [
    {
     "name": "stdout",
     "output_type": "stream",
     "text": [
      "True\n"
     ]
    }
   ],
   "source": [
    "a = 3 #operator pembanding >=(lebih besar sama dengan)\n",
    "b = 3\n",
    "print (a >= b)"
   ]
  },
  {
   "cell_type": "code",
   "execution_count": 2,
   "metadata": {},
   "outputs": [
    {
     "name": "stdout",
     "output_type": "stream",
     "text": [
      "True\n"
     ]
    }
   ],
   "source": [
    "x = 5 #operator logika (and or xor)\n",
    "y = 10\n",
    "result = (x > 0) and (y < 20)\n",
    "print (result)"
   ]
  },
  {
   "cell_type": "code",
   "execution_count": null,
   "metadata": {},
   "outputs": [],
   "source": [
    "x = 10 \n",
    "result = (x < 5)"
   ]
  },
  {
   "cell_type": "code",
   "execution_count": 3,
   "metadata": {},
   "outputs": [
    {
     "name": "stdout",
     "output_type": "stream",
     "text": [
      "False\n"
     ]
    }
   ],
   "source": [
    "a = 5\n",
    "b = 5\n",
    "print (a != b)"
   ]
  },
  {
   "cell_type": "code",
   "execution_count": 8,
   "metadata": {},
   "outputs": [
    {
     "name": "stdout",
     "output_type": "stream",
     "text": [
      "boneka\n",
      "besar\n"
     ]
    }
   ],
   "source": [
    "jenis_kelamin = \"perempuan\"\n",
    "status = \"mainan\" if jenis_kelamin == \"laki-laki\" else \"boneka\"\n",
    "print (status)\n",
    "\n",
    "harga = \"mahal\" if status == \"mainan\" else \"besar\"\n",
    "print (harga)"
   ]
  },
  {
   "cell_type": "code",
   "execution_count": 10,
   "metadata": {},
   "outputs": [
    {
     "name": "stdout",
     "output_type": "stream",
     "text": [
      "nilai t\n"
     ]
    }
   ],
   "source": [
    "nilai = 61\n",
    "\n",
    "if nilai >= 90:\n",
    "    print (\"nilai A\")\n",
    "elif nilai >= 80:\n",
    "    print (\"nilai W\")\n",
    "elif nilai >= 999:\n",
    "    print (\"nilai o\")\n",
    "else:\n",
    "    print (\"nilai t\")"
   ]
  },
  {
   "cell_type": "code",
   "execution_count": 10,
   "metadata": {},
   "outputs": [
    {
     "name": "stdout",
     "output_type": "stream",
     "text": [
      "Nilai ab\n",
      "nama : Dhea Rohana, \n",
      "nilai_akhir : 77, \n",
      "jurusan Informatika\n"
     ]
    }
   ],
   "source": [
    "nama = (input (\"masukkan nama\")) #TUGAS 2.1\n",
    "nilai = int(input (\"masukkan nilai\"))\n",
    "jurusan = (input (\"masukkan jurusan\"))\n",
    "\n",
    "if nilai >=80 and nilai <=100:\n",
    "    print(\"Nilai a\")\n",
    "elif nilai >=73 and nilai <=79:\n",
    "    print(\"Nilai ab\")\n",
    "elif nilai >=67 and nilai <=72:\n",
    "    print(\"Nilai b\")\n",
    "elif nilai >=55 and nilai <=66:\n",
    "    print(\"Nilai bc\")\n",
    "elif nilai >=40 and nilai <=54:\n",
    "    print(\"Nilai c\")\n",
    "else:\n",
    "    print(\"Nilai f\")   \n",
    "print(f\"nama : {nama}, \\nnilai_akhir : {nilai}, \\njurusan {jurusan}\")"
   ]
  },
  {
   "cell_type": "code",
   "execution_count": 2,
   "metadata": {},
   "outputs": [
    {
     "name": "stdout",
     "output_type": "stream",
     "text": [
      "Rekomendasi asupan air harian: 2.0 liter\n"
     ]
    }
   ],
   "source": [
    "def rekomendasi_air(usia, jenis_kelamin): #TUGAS 3\n",
    "    if usia < 2:\n",
    "        return \"Masih diberi ASI\"\n",
    "    elif  3 <= usia <= 18:\n",
    "        if jenis_kelamin == \"laki-laki\":\n",
    "            return \"Rekomendasi asupan air harian: 1.6 liter\"\n",
    "        elif jenis_kelamin == \"perempuan\":\n",
    "            return \"Rekomendasi asupan air harian: 1.4 liter\"\n",
    "        else:\n",
    "            return \"Jenis kelamin tidak valid\"\n",
    "    elif 18 < usia <= 64:\n",
    "        if jenis_kelamin == \"laki-laki\":\n",
    "            return \"Rekomendasi asupan air harian: 2.5 liter\"\n",
    "        elif jenis_kelamin == \"perempuan\":\n",
    "            return \"Rekomendasi asupan air harian: 2.0 liter\"\n",
    "        else:\n",
    "            return \"Jenis kelamin tidak valid\"\n",
    "    elif usia >= 65:\n",
    "        if jenis_kelamin == \"laki-laki\":\n",
    "            return \"Rekomendasi asupan air harian: 2.0 liter\"\n",
    "        elif jenis_kelamin == \"perempuan\":\n",
    "            return \"Rekomendasi asupan air harian: 1.8 liter\"\n",
    "        else:\n",
    "            return \"Jenis kelamin tidak valid\"\n",
    "    else:\n",
    "        return \"Usia tidak valid\"\n",
    "    \n",
    "usia = int(input(\"Masukkan usia: \"))\n",
    "jenis_kelamin = input(\"Masukkan jenis kelamin (laki-laki/perempuan): \").lower()\n",
    "print(rekomendasi_air(usia,jenis_kelamin))"
   ]
  },
  {
   "cell_type": "code",
   "execution_count": 1,
   "metadata": {},
   "outputs": [
    {
     "name": "stdout",
     "output_type": "stream",
     "text": [
      "Python\n"
     ]
    }
   ],
   "source": [
    "prodi = 12 #PERULANGAN \n",
    "status = 20 < 23 if prodi == \"12\" else 20 > 24\n",
    "#print (status)\n",
    "\n",
    "harga = \"Java Script\" if status == True else \"Python\"\n",
    "print(harga)"
   ]
  },
  {
   "cell_type": "code",
   "execution_count": 3,
   "metadata": {},
   "outputs": [
    {
     "name": "stdout",
     "output_type": "stream",
     "text": [
      "Suhu tubuh di atas normal.\n",
      "Suhu tubuh sangat tinggi, butuh perhatian medis segera.\n"
     ]
    }
   ],
   "source": [
    "#Input suhu tubuh dalam derajat Celcius\n",
    "suhu_tubuh = 39.5\n",
    "\n",
    "#input detak jantung per menit\n",
    "detak_jantung = 110\n",
    " \n",
    "#mengecek apakah suhu tubuh sangat tinggi\n",
    "if suhu_tubuh > 37.5:\n",
    "    print(\"Suhu tubuh di atas normal.\")\n",
    "\n",
    "    #mengecek apakah suhu tubuh sangat tinggi\n",
    "    if suhu_tubuh > 39:\n",
    "        print(\"Suhu tubuh sangat tinggi, butuh perhatian medis segera.\")\n",
    "\n",
    "    #mengecek detak jantung jika suhu tubuh terlalu tinggi\n",
    "    else:\n",
    "        #mengecek apakah detak jantung terlalu tinggi\n",
    "        if detak_jantung > 100:\n",
    "            print(\"Detak jantung terlalu tinggi, btuh pemeriksaan lebih lanjut.\")\n",
    "        else:\n",
    "            print(\"Detak jantung normal, perbanyak istirahat dan minum cairan.\")\n",
    "else:\n",
    "    print(\"Suhu tubuh normal, tidak ada tindakan khusus yang diperlukan.\")    "
   ]
  },
  {
   "cell_type": "code",
   "execution_count": 5,
   "metadata": {},
   "outputs": [
    {
     "name": "stdout",
     "output_type": "stream",
     "text": [
      "Nama : anjel\n",
      "Suhu Tubuh : 38\n",
      "Detak jantung : 1127\n",
      "Suhu tubuh diatas normal\n",
      "Cukup istirahat saja\n"
     ]
    },
    {
     "ename": "NameError",
     "evalue": "name 'detak_jantung' is not defined",
     "output_type": "error",
     "traceback": [
      "\u001b[1;31m---------------------------------------------------------------------------\u001b[0m",
      "\u001b[1;31mNameError\u001b[0m                                 Traceback (most recent call last)",
      "Cell \u001b[1;32mIn[5], line 16\u001b[0m\n\u001b[0;32m     14\u001b[0m \u001b[38;5;28;01melse\u001b[39;00m:\n\u001b[0;32m     15\u001b[0m     \u001b[38;5;28mprint\u001b[39m(\u001b[38;5;124m\"\u001b[39m\u001b[38;5;124mCukup istirahat saja\u001b[39m\u001b[38;5;124m\"\u001b[39m)\n\u001b[1;32m---> 16\u001b[0m     \u001b[38;5;28;01mif\u001b[39;00m \u001b[43mdetak_jantung\u001b[49m \u001b[38;5;241m>\u001b[39m \u001b[38;5;241m100\u001b[39m:\n\u001b[0;32m     17\u001b[0m         \u001b[38;5;28mprint\u001b[39m(\u001b[38;5;124m\"\u001b[39m\u001b[38;5;124mDetak jantung terlalu tinggi, butuh pemeriksaan lebih lanjut.\u001b[39m\u001b[38;5;124m\"\u001b[39m)\n\u001b[0;32m     18\u001b[0m     \u001b[38;5;28;01melse\u001b[39;00m:\n",
      "\u001b[1;31mNameError\u001b[0m: name 'detak_jantung' is not defined"
     ]
    }
   ],
   "source": [
    "#KUIS 16 oktober 24\n",
    "\n",
    "Nama = (input(\"Masukkan nama\"))\n",
    "Suhu_Tubuh = int(input(\"Masukkan suhu tubuh anda\"))\n",
    "Detak_jantung = int(input(\"Masukkan detak jantung anda\"))\n",
    "print(f\"Nama : {Nama}\")\n",
    "print(f\"Suhu Tubuh : {Suhu_Tubuh}\")\n",
    "print(f\"Detak jantung : {Detak_jantung}\")\n",
    "\n",
    "if Suhu_Tubuh > 37.5:\n",
    "    print(\"Suhu tubuh diatas normal\")\n",
    "    if Suhu_Tubuh > 39 & Suhu_Tubuh < 50:\n",
    "        print(\"Harus segera dirawat\")\n",
    "    else:\n",
    "        print(\"Cukup istirahat saja\")\n",
    "        if detak_jantung > 100:\n",
    "            print(\"Detak jantung terlalu tinggi, butuh pemeriksaan lebih lanjut.\")\n",
    "        else:\n",
    "            print(\"Detak jantung normal, perbanyak istirahat dan minum cairan.\")\n",
    "else:\n",
    "    print(\"ANDA SEHAT OMAY GADNESSSSSSSSS RAWR\")\n",
    "    if detak_jantung < 100:\n",
    "            print(\"Detak jantung terlalu tinggi, butuh pemeriksaan lebih lanjut.\")\n",
    "    else:\n",
    "        print(\"istirahat di rumah juga\")"
   ]
  },
  {
   "cell_type": "code",
   "execution_count": 4,
   "metadata": {},
   "outputs": [
    {
     "name": "stdout",
     "output_type": "stream",
     "text": [
      "Angka : 1\n",
      "Nama : dhea\n",
      "Suhu Tubuh : 57\n",
      "Detak jantung : 98\n",
      "Suhu tubuh diatas normal\n",
      "Harus segera dirawat\n"
     ]
    }
   ],
   "source": [
    "#KUIS 2\n",
    "angka = int(input(\"Masukkan angka\"))\n",
    "print(f\"Angka : {angka}\")\n",
    "\n",
    "match angka:\n",
    "    case 1:\n",
    "        Nama = (input(\"Masukkan nama\"))\n",
    "        Suhu_Tubuh = int(input(\"Masukkan suhu tubuh anda\"))\n",
    "        Detak_jantung = int(input(\"Masukkan detak jantung anda\"))\n",
    "        print(f\"Nama : {Nama}\")\n",
    "        print(f\"Suhu Tubuh : {Suhu_Tubuh}\")\n",
    "        print(f\"Detak jantung : {Detak_jantung}\")\n",
    "        \n",
    "        if Suhu_Tubuh > 37.5:\n",
    "          print(\"Suhu tubuh diatas normal\")\n",
    "          if Suhu_Tubuh > 39 & Suhu_Tubuh < 50:\n",
    "             print(\"Harus segera dirawat\")\n",
    "          else:\n",
    "            print(\"Cukup istirahat saja\")\n",
    "            if detak_jantung > 100:\n",
    "              print(\"Detak jantung terlalu tinggi, butuh pemeriksaan lebih lanjut.\")\n",
    "            else:\n",
    "              print(\"Detak jantung normal, perbanyak istirahat dan minum cairan.\")\n",
    "        else:\n",
    "             print(\"Cukup istirahat saja\")\n",
    "             if detak_jantung < 100:\n",
    "              print(\"Detak jantung terlalu tinggi, butuh pemeriksaan lebih lanjut.\")\n",
    "             else:\n",
    "               print(\"istirahat di rumah juga\")\n",
    "    case 2:\n",
    "      pasien = 0\n",
    "      while pasien < 3 :\n",
    "        pasien +=1\n",
    "        nama = (input(\"Masukkan Nama\"))\n",
    "        sistolik = int(input(\"Masukkan tekanan darah Sistolik\"))\n",
    "        diastolik = int(input(\"Masukkan tekanan darah Diastolik\"))\n",
    "        denyut_nadi = int(input(\"Masukkan denyut nadi\"))\n",
    "\n",
    "        print(f\"Nama : {nama}\")\n",
    "        print(f\"Tekanan darah Sistolik : {sistolik} mmHg\")\n",
    "        print(f\"Tekanan darah Diastolik : {diastolik} mmHg\")\n",
    "        print(f\"Denyut nadi : {denyut_nadi} bpm\")\n",
    "\n",
    "        if sistolik > 180 or diastolik > 120 :\n",
    "            print(\"Segera cari bantuan medis (krisis Hipertensi)\")\n",
    "            if sistolik > 140 or diastolik > 90 :\n",
    "                print(\"Konsultasi dengan dokter mengenai Hipertensi\")\n",
    "            elif 120 <= sistolik <= 139 or 80 <= diastolik <= 89 :\n",
    "                print(\"Anda dalam berada dalam kategori Prehipertensi\")\n",
    "                if denyut_nadi > 100 :\n",
    "                      print(\"Periksa kondisi kesehatan jantung\")\n",
    "                elif denyut_nadi < 60 :\n",
    "                      print(\"Periksa apakah ada gejala lain yang mengiringi Bradikardia\")\n",
    "                elif 60 <= denyut_nadi <= 100:\n",
    "                      print(\"Denyut nadi normal\")\n",
    "        else:\n",
    "            print(\"Tekanan darah anda normal\")\n",
    "            if denyut_nadi > 100 :\n",
    "                  print(\"Periksa kondisi kesehatan jantung\")\n",
    "            elif denyut_nadi < 60 :\n",
    "                  print(\"Periksa apakah ada gejala lain yang mengiringi Bradikardia\")\n",
    "            elif 60 <= denyut_nadi <= 100:\n",
    "                  print(\"Denyut nadi normal\")\n",
    "    case 3: \n",
    "      print(\"Program ini juga masih kosong\")\n",
    "    case _:\n",
    "      print(\"masukkan angka valid\")"
   ]
  },
  {
   "cell_type": "code",
   "execution_count": 17,
   "metadata": {},
   "outputs": [
    {
     "name": "stdout",
     "output_type": "stream",
     "text": [
      "Angkanya adalah 0\n",
      "Angkanya adalah 1\n",
      "Angkanya adalah 2\n",
      "Angkanya adalah 3\n",
      "Angkanya adalah 4\n"
     ]
    }
   ],
   "source": [
    "for i in range(5):    #dimulai dari 0\n",
    "    print(\"Angkanya adalah\",i)"
   ]
  },
  {
   "cell_type": "code",
   "execution_count": 1,
   "metadata": {},
   "outputs": [
    {
     "name": "stdout",
     "output_type": "stream",
     "text": [
      "Rekomendasi untuk a: Tekanan darah Anda normal.\n",
      "Rekomendasi untuk b: Konsultasi dengan dokter mengenai hipertensi.\n",
      "Rekomendasi untuk c: Segera cari bantuan medis (krisis hipertensi).\n"
     ]
    }
   ],
   "source": [
    "def rekomendasi_kesehatan(sistolik, diastolik, denyut_nadi):\n",
    "    if sistolik > 180 or diastolik > 120:\n",
    "        return \"Segera cari bantuan medis (krisis hipertensi).\"\n",
    "    elif sistolik > 140 or diastolik > 90:\n",
    "        return \"Konsultasi dengan dokter mengenai hipertensi.\"\n",
    "    elif 120 <= sistolik <= 139 or 80 <= diastolik <= 89:\n",
    "        return \"Anda berada dalam kategori prehipertensi.\"\n",
    "    elif sistolik < 120 and diastolik < 80:\n",
    "        return \"Tekanan darah Anda normal.\"\n",
    "\n",
    "    # Cek denyut nadi\n",
    "    if denyut_nadi > 100:\n",
    "        return \"Periksa kondisi kesehatan jantung.\"\n",
    "    elif denyut_nadi < 60:\n",
    "        return \"Periksa apakah ada gejala lain yang mengiringi bradikardia.\"\n",
    "    else:\n",
    "        return \"Denyut nadi Anda normal.\"\n",
    "\n",
    "\n",
    "def main():\n",
    "    for _ in range(3):\n",
    "        nama = input(\"Masukkan nama pasien: \")\n",
    "        sistolik = int(input(\"Tekanan darah sistolik (mmHg): \"))\n",
    "        diastolik = int(input(\"Tekanan darah diastolik (mmHg): \"))\n",
    "        denyut_nadi = int(input(\"Denyut nadi (bpm): \"))\n",
    "\n",
    "        rekomendasi = rekomendasi_kesehatan(sistolik, diastolik, denyut_nadi)\n",
    "        print(f\"Rekomendasi untuk {nama}: {rekomendasi}\")\n",
    "\n",
    "\n",
    "if __name__ == \"__main__\":\n",
    "    main() "
   ]
  },
  {
   "cell_type": "code",
   "execution_count": 6,
   "metadata": {},
   "outputs": [
    {
     "name": "stdout",
     "output_type": "stream",
     "text": [
      "Nama : f\n",
      "Tekanan darah Sistolik : 77 mmHg\n",
      "Tekanan darah Diastolik : 55 mmHg\n",
      "Denyut nadi : 55 bpm\n",
      "Tekanan darah anda normal\n",
      "Periksa apakah ada gejala lain yang mengiringi Bradikardia\n",
      "Tekanan darah anda normal\n",
      "Periksa apakah ada gejala lain yang mengiringi Bradikardia\n",
      "Tekanan darah anda normal\n",
      "Periksa apakah ada gejala lain yang mengiringi Bradikardia\n"
     ]
    }
   ],
   "source": [
    "#TUGAS 4\n",
    "\n",
    "pasien = 0\n",
    "while pasien < 3 :\n",
    "    pasien +=1\n",
    "    nama = (input(\"Masukkan Nama\"))\n",
    "    sistolik = int(input(\"Masukkan tekanan darah Sistolik\"))\n",
    "    diastolik = int(input(\"Masukkan tekanan darah Diastolik\"))\n",
    "    denyut_nadi = int(input(\"Masukkan denyut nadi\"))\n",
    "\n",
    "    print(f\"Nama : {nama}\")\n",
    "    print(f\"Tekanan darah Sistolik : {sistolik} mmHg\")\n",
    "    print(f\"Tekanan darah Diastolik : {diastolik} mmHg\")\n",
    "    print(f\"Denyut nadi : {denyut_nadi} bpm\")\n",
    "\n",
    "    \n",
    "\n",
    "    if sistolik > 180 or diastolik > 120 :\n",
    "        print(\"Segera cari bantuan medis (krisis Hipertensi)\")\n",
    "    elif sistolik > 140 or diastolik > 90 :\n",
    "        print(\"Konsultasi dengan dokter mengenai Hipertensi\")\n",
    "    elif 120 <= sistolik <= 139 or 80 <= diastolik <= 89 :\n",
    "        print(\"Anda dalam berada dalam kategori Prehipertensi\")\n",
    "    elif sistolik < 120 and diastolik < 80 :\n",
    "        print(\"Tekanan darah anda normal\")\n",
    "        if denyut_nadi > 100 :\n",
    "            print(\"Periksa kondisi kesehatan jantung\")\n",
    "        elif denyut_nadi < 60 :\n",
    "            print(\"Periksa apakah ada gejala lain yang mengiringi Bradikardia\")\n",
    "        elif 60 <= denyut_nadi <= 100:\n",
    "            print(\"Denyut nadi normal\")\n",
    "  "
   ]
  },
  {
   "cell_type": "code",
   "execution_count": 13,
   "metadata": {},
   "outputs": [
    {
     "name": "stdout",
     "output_type": "stream",
     "text": [
      "0\n",
      "1\n",
      "2\n",
      "3\n"
     ]
    }
   ],
   "source": [
    "i = 0\n",
    "while i<4 :\n",
    "    print(i)\n",
    "    i +=1\n",
    "    "
   ]
  },
  {
   "cell_type": "code",
   "execution_count": 1,
   "metadata": {},
   "outputs": [
    {
     "name": "stdout",
     "output_type": "stream",
     "text": [
      "Halo, Alice!\n"
     ]
    }
   ],
   "source": [
    "#memanggil fungsi yang di definisikan (def)\n",
    "#DEF DAN WHILE\n",
    "def sapa(nama):\n",
    "    pesan = \"Halo, \" + nama + \"!\"\n",
    "    return pesan\n",
    "\n",
    "nama_pengguna = \"Alice\"\n",
    "hasil_sapaan = sapa(nama_pengguna)\n",
    "print(hasil_sapaan)"
   ]
  },
  {
   "cell_type": "code",
   "execution_count": 2,
   "metadata": {},
   "outputs": [
    {
     "name": "stdout",
     "output_type": "stream",
     "text": [
      "17\n"
     ]
    }
   ],
   "source": [
    "#ARGS (Argumen posisional berlapis variable)\n",
    "def jumlahkan(*args):\n",
    "    total = 0\n",
    "    for angka in args:\n",
    "        total += angka\n",
    "    return total\n",
    "hasil = jumlahkan(2,3,5,7)\n",
    "print(hasil)"
   ]
  },
  {
   "cell_type": "code",
   "execution_count": 3,
   "metadata": {},
   "outputs": [
    {
     "name": "stdout",
     "output_type": "stream",
     "text": [
      "perulangan ke (i)\n",
      "perulangan ke (i)\n",
      "perulangan ke (i)\n",
      "perulangan ke (i)\n",
      "perulangan ke (i)\n",
      "perulangan ke (i)\n",
      "perulangan ke (i)\n",
      "akhirnya ketemu 7\n"
     ]
    }
   ],
   "source": [
    "found = False\n",
    "i = 0\n",
    "while not found:\n",
    "    if i == 7:\n",
    "        found=True\n",
    "        print (\"akhirnya ketemu 7\")\n",
    "    else:\n",
    "        i+=1\n",
    "        print(f\"perulangan ke (i)\")"
   ]
  },
  {
   "cell_type": "code",
   "execution_count": 5,
   "metadata": {},
   "outputs": [
    {
     "name": "stdout",
     "output_type": "stream",
     "text": [
      "Buahnya adalah: ['mangga', 'bluberry', 'banana', 'durian']\n"
     ]
    }
   ],
   "source": [
    "buahbuahan = [\"apple\", \"banana\", 'cherry']\n",
    "\n",
    "buahbuahan.insert(0,\"mangga\")\n",
    "#menambahkan elemen ke dalam list\n",
    "buahbuahan.append('durian')\n",
    "\n",
    "#mengakses elemen\n",
    "pilihan = buahbuahan[0], buahbuahan[3]\n",
    "\n",
    "#menghapus via index \n",
    "buahbuahan[1] = 'bluberry'\n",
    "\n",
    "#menghapus elemen via kata kunci\n",
    "buahbuahan.remove('cherry')\n",
    "\n",
    "print(f\"Buahnya adalah: {buahbuahan}\")"
   ]
  },
  {
   "cell_type": "code",
   "execution_count": 8,
   "metadata": {},
   "outputs": [
    {
     "data": {
      "text/plain": [
       "{'apple', 'cherry', 'nanas'}"
      ]
     },
     "execution_count": 8,
     "metadata": {},
     "output_type": "execute_result"
    }
   ],
   "source": [
    "#membuat set\n",
    "buahbuahan = {'apple', 'apple', 'cherry'}\n",
    "#menambahkan elemen via kata kunci\n",
    "buahbuahan.add('nanas')\n",
    "buahbuahan.add('banana')\n",
    "\n",
    "#menghapus elemen via kata kunci\n",
    "buahbuahan.remove('banana')\n",
    "\n",
    "buahbuahan"
   ]
  },
  {
   "cell_type": "code",
   "execution_count": 9,
   "metadata": {},
   "outputs": [
    {
     "name": "stdout",
     "output_type": "stream",
     "text": [
      "index ke 3 buahnya adalah mangga\n",
      "index ke 2 buahnya adalah cherry\n",
      "index ke 1 buahnya adalah banana\n"
     ]
    }
   ],
   "source": [
    "#list\n",
    "Buahbuahan = ['apple','banana', 'cherry', 'mangga']\n",
    "\n",
    "#iterasi menggunakan for\n",
    "for i in range (3,0,-1):\n",
    "    print(f\"index ke {i} buahnya adalah {Buahbuahan[i]}\")"
   ]
  },
  {
   "cell_type": "code",
   "execution_count": 10,
   "metadata": {},
   "outputs": [
    {
     "name": "stdout",
     "output_type": "stream",
     "text": [
      "index ke 3 buahnya adalah mangga\n",
      "index ke 2 buahnya adalah cherry\n",
      "index ke 1 buahnya adalah banana\n"
     ]
    }
   ],
   "source": [
    "#tuple\n",
    "Buahbuahan = ('apple','banana', 'cherry', 'mangga')\n",
    "\n",
    "#iterasi menggunakan for\n",
    "for i in range (3,0,-1):\n",
    "    print(f\"index ke {i} buahnya adalah {Buahbuahan[i]}\")"
   ]
  },
  {
   "cell_type": "code",
   "execution_count": 11,
   "metadata": {},
   "outputs": [
    {
     "name": "stdout",
     "output_type": "stream",
     "text": [
      "buahnya adalah ['banana', 'cerry', 'mangga']\n",
      "buahnya adalah ['cerry', 'mangga']\n"
     ]
    }
   ],
   "source": [
    "BUAHBUAHAN = ['apple','banana','cerry','mangga']\n",
    "for buah in range (1,3):\n",
    "    buah = 0\n",
    "    BUAHBUAHAN.pop(buah)\n",
    "    print(f\"buahnya adalah {BUAHBUAHAN}\")"
   ]
  },
  {
   "cell_type": "code",
   "execution_count": 13,
   "metadata": {},
   "outputs": [
    {
     "name": "stdout",
     "output_type": "stream",
     "text": [
      "buahnya adalah : mangga\n",
      "buahnya adalah : banana\n"
     ]
    }
   ],
   "source": [
    "#list\n",
    "BuahBuahan = ['apple', 'banana', 'cerry']\n",
    "i = 0\n",
    "BuahBuahan.insert(0,\"mangga\")\n",
    "ulang = 2\n",
    "\n",
    "#literasi menggunakan while\n",
    "while i < len(BuahBuahan):\n",
    "    print(f\"buahnya adalah : {BuahBuahan[i]}\")\n",
    "    i += ulang"
   ]
  },
  {
   "cell_type": "code",
   "execution_count": 2,
   "metadata": {},
   "outputs": [
    {
     "name": "stdout",
     "output_type": "stream",
     "text": [
      "0\n",
      "1\n",
      "2\n",
      "3\n",
      "4\n",
      "yey\n",
      "selesai\n"
     ]
    }
   ],
   "source": [
    "i = 0\n",
    "while i < 10:\n",
    "    print(i)\n",
    "    i += 1\n",
    "    if i == 5:\n",
    "        print (\"yey\")\n",
    "        break\n",
    "print(\"selesai\")\n"
   ]
  },
  {
   "cell_type": "code",
   "execution_count": 15,
   "metadata": {},
   "outputs": [
    {
     "name": "stdout",
     "output_type": "stream",
     "text": [
      "perulangan ke 0\n",
      "perulangan ke 1\n",
      "perulangan ke 2\n",
      "diash ada dalam list YEAYYY\n"
     ]
    }
   ],
   "source": [
    "#perulangan FOR memakai BREAK\n",
    "nama = [1, 'firdaus', 'diash', 'informatika']\n",
    "nama_yang_dicari = 'diash'\n",
    "ada = False\n",
    "\n",
    "for n in range(0,4):\n",
    "    print(f\"perulangan ke {n}\")\n",
    "    if nama[n] == nama_yang_dicari:\n",
    "        ada = True\n",
    "        break\n",
    "\n",
    "if ada:\n",
    "    print(nama_yang_dicari, 'ada dalam list YEAYYY')\n",
    "else:\n",
    "    print(nama_yang_dicari, 'tidak ada dalam list')"
   ]
  },
  {
   "cell_type": "code",
   "execution_count": 4,
   "metadata": {},
   "outputs": [
    {
     "name": "stdout",
     "output_type": "stream",
     "text": [
      "Input tidak valid. Masukkan angka dengan benar!\n",
      "IMT anda :  0.15\n",
      "Kategori kesehatan anda : Underweight\n"
     ]
    },
    {
     "ename": "",
     "evalue": "",
     "output_type": "error",
     "traceback": [
      "\u001b[1;31mThe Kernel crashed while executing code in the current cell or a previous cell. \n",
      "\u001b[1;31mPlease review the code in the cell(s) to identify a possible cause of the failure. \n",
      "\u001b[1;31mClick <a href='https://aka.ms/vscodeJupyterKernelCrash'>here</a> for more info. \n",
      "\u001b[1;31mView Jupyter <a href='command:jupyter.viewOutput'>log</a> for further details."
     ]
    }
   ],
   "source": [
    "#Menghitung IMT TUGAS\n",
    "def hitung_IMT (weight,height):\n",
    "    return weight / (height ** 2)\n",
    "\n",
    "#menentukan kategori kesehatan berdasarkan imt\n",
    "def kategori_kesehatan(imt):\n",
    "    if imt < 18.5:\n",
    "        return(\"Underweight\")\n",
    "    elif 18.5 <= imt < 25 :\n",
    "        return(\"Normal weight\")\n",
    "    elif 25<= imt <30 :\n",
    "        return(\"Overweight\")\n",
    "    else:\n",
    "        return(\"Obesity\")\n",
    "    \n",
    "#Meminta input user\n",
    "def main():\n",
    "    while True:\n",
    "        try :\n",
    "            berat = float(input(\"Masukkan berat badan anda (Kg) :\"))\n",
    "            tinggi = float(input(\"Masukkan tinggi badan anda (Meter) :\"))\n",
    "        except ValueError:\n",
    "            print(\"Input tidak valid. Masukkan angka dengan benar!\")\n",
    "            continue\n",
    "        \n",
    "        imt = hitung_IMT(berat,tinggi) #Menghitung imt\n",
    "        kategori = kategori_kesehatan(imt) #menentukan kategori kesehatan\n",
    "\n",
    "        #menampilkan hasil\n",
    "        print(f\"IMT anda : {imt : .2f}\") #format desimal\n",
    "        print(f\"Kategori kesehatan anda : {kategori}\")\n",
    "\n",
    "        #menanyakan apakah pengguna ingin melakukan input\n",
    "        lagi = input(\"Apakah anda ingin memasukkan data lain? (iya / tidak) : \").strip().lower()\n",
    "        if lagi != \"iya\" :\n",
    "            break\n",
    "\n",
    "if __name__ == \"__main__\": #Menjalankan program utama\n",
    "    main()\n"
   ]
  },
  {
   "cell_type": "code",
   "execution_count": 5,
   "metadata": {},
   "outputs": [
    {
     "name": "stdout",
     "output_type": "stream",
     "text": [
      "angkanya adalah 3\n",
      "angkanya adalah 4\n",
      "angkanya adalah 5\n",
      "angkanya adalah 6\n",
      "angkanya adalah 7\n",
      "angkanya adalah 8\n",
      "angkanya adalah 9\n",
      "hasil fungtion 9\n"
     ]
    }
   ],
   "source": [
    "#PERTEMUAN 6\n",
    "\n",
    "def coba_percabangan(a,b):\n",
    "    if a>b:\n",
    "        print(\"hitungin dong\")\n",
    "        hasil = a*b\n",
    "    else:\n",
    "        print(\"gabisa diitung\")\n",
    "        hasil = gada\n",
    "    return hasil\n",
    "def perulangan (a=5):\n",
    "    for i in range (3,a):\n",
    "        print(f\"angkanya adalah {i}\")\n",
    "    return i\n",
    "cobain_terus = perulangan(10)\n",
    "print(f\"hasil fungtion {cobain_terus}\")"
   ]
  },
  {
   "cell_type": "code",
   "execution_count": 15,
   "metadata": {},
   "outputs": [
    {
     "name": "stdout",
     "output_type": "stream",
     "text": [
      "ini adalah fungsi luar dengan parameter : dhea\n"
     ]
    },
    {
     "data": {
      "text/plain": [
       "'dhea'"
      ]
     },
     "execution_count": 15,
     "metadata": {},
     "output_type": "execute_result"
    }
   ],
   "source": [
    "def luar(argumen1):\n",
    "    print(f\"ini adalah fungsi luar dengan parameter : {argumen1}\")\n",
    "    nama = \"dhea\"\n",
    "    return nama\n",
    "\n",
    "    def dalam(inner_param):\n",
    "        print(f\"ini adalah fungsi dalam dnegan parmeter : {inner_param}\")\n",
    "\n",
    "    #mengambil fungsi dlm\n",
    "    dalam(\"dalam\")\n",
    "\n",
    "luar (\"dhea\")\n"
   ]
  },
  {
   "cell_type": "code",
   "execution_count": 17,
   "metadata": {},
   "outputs": [
    {
     "name": "stdout",
     "output_type": "stream",
     "text": [
      "perulangan ke: 0\n",
      "perulangan ke: 1\n",
      "perulangan ke: 2\n",
      "perulangan ke: 3\n",
      "perulangan ke: 4\n"
     ]
    },
    {
     "data": {
      "text/plain": [
       "625"
      ]
     },
     "execution_count": 17,
     "metadata": {},
     "output_type": "execute_result"
    }
   ],
   "source": [
    "def percabangan(a,b):\n",
    "    if a > b:\n",
    "        hitung = a ** b\n",
    "    else:\n",
    "        print(\"tdk terpenuhi\")\n",
    "    def perulangan(z):\n",
    "        i = 0\n",
    "        while i < z:\n",
    "            print(f\"perulangan ke: {i}\")\n",
    "            i += 1\n",
    "        return i\n",
    "    perulangan(5) #jika i nya lokal bisa di panggil, memakai variable A lalu di print di baawah nya\n",
    "    return hitung\n",
    "percabangan(5,4)"
   ]
  },
  {
   "cell_type": "code",
   "execution_count": 30,
   "metadata": {},
   "outputs": [
    {
     "name": "stdout",
     "output_type": "stream",
     "text": [
      "\n",
      "Nama-nama pasien yang telah dimasukkan:\n",
      "1 dhea\n",
      "2 rohana\n",
      "3 yaya\n",
      "4 mingming\n",
      "5 bocil\n",
      "6 gemoy\n",
      "7 petot\n"
     ]
    }
   ],
   "source": [
    "#MEMASUKKAN DATA KE DALAM LIST\n",
    "\n",
    "nama_pasien=[]\n",
    "jumlah_pasien = int(input(\"Masukkan jumlah pasien: \"))\n",
    "for itenas in range (jumlah_pasien):\n",
    "    pasien = input(f\"masukkan pasien ke {itenas+1}:\")\n",
    "    nama_pasien.append(pasien)\n",
    "\n",
    "#menampilkan nama pasien yg dimasukkan\n",
    "print(\"\\nNama-nama pasien yang telah dimasukkan:\")\n",
    "i=1\n",
    "for nama in nama_pasien:\n",
    "    print (i, nama)\n",
    "    i+=1\n"
   ]
  },
  {
   "cell_type": "code",
   "execution_count": 29,
   "metadata": {},
   "outputs": [
    {
     "name": "stdout",
     "output_type": "stream",
     "text": [
      "\n",
      "Nama-nama pasien yang telah dimasukkan:\n",
      "5 dhea\n",
      "6 rohana\n"
     ]
    }
   ],
   "source": [
    "#MEMASUKKAN DATA KE DALAM LIST\n",
    "\n",
    "nama_pasien=[]\n",
    "jumlah_pasien = int(input(\"Masukkan jumlah pasien: \"))\n",
    "for itenas in range (jumlah_pasien):\n",
    "    pasien = input(f\"masukkan pasien ke {itenas+1}:\")\n",
    "    nama_pasien.append(pasien)\n",
    "\n",
    "#menampilkan nama pasien yg dimasukkan\n",
    "print(\"\\nNama-nama pasien yang telah dimasukkan:\")\n",
    "nama =[\"dhea\",\"rohana\"]\n",
    "\n",
    "for z in nama:\n",
    "    print (i, z)\n",
    "    i+=1\n"
   ]
  },
  {
   "cell_type": "code",
   "execution_count": null,
   "metadata": {},
   "outputs": [
    {
     "name": "stderr",
     "output_type": "stream",
     "text": [
      "<>:16: SyntaxWarning: invalid escape sequence '\\R'\n",
      "<>:16: SyntaxWarning: invalid escape sequence '\\R'\n",
      "C:\\Users\\lenovo\\AppData\\Local\\Temp\\ipykernel_20624\\1256742437.py:16: SyntaxWarning: invalid escape sequence '\\R'\n",
      "  print (f\"n\\Rata-rata detak jantung anda : {rata_rata}\")\n"
     ]
    }
   ],
   "source": [
    "nama_pasien=[]\n",
    "detak_jantung=[]\n",
    "\n",
    "jumlah_pasien = int(input(\"Masukkan Jumlah pasien: \"))\n",
    "for i in range (jumlah_pasien):\n",
    "    pasien = input(f\"masukkan pasien ke {i+1}:\")\n",
    "    detak = input(f\"Masukkan detak jantung {i+1}\")\n",
    "    nama_pasien.append(pasien)\n",
    "    detak_jantung.append(detak)\n",
    "    \n",
    "    \n",
    "print(\"\\nNama-nama pasien yang telah dimasukkan:\")\n",
    "\n",
    "\n",
    "rata_rata = sum(detak_jantung)/jumlah_pasien\n",
    "print (f\"n\\Rata-rata detak jantung anda : {rata_rata}\")\n",
    "\n",
    "for nama in range (jumlah_pasien):\n",
    "    print (f\"Nama Pasien : {nama_pasien[i]}\")\n",
    "    print (f\"Detak jantung : {detak_jantung[i]}\")\n",
    "    i+=1\n"
   ]
  },
  {
   "cell_type": "code",
   "execution_count": 1,
   "metadata": {},
   "outputs": [
    {
     "name": "stdout",
     "output_type": "stream",
     "text": [
      "\n",
      "Jumlah pasien dengan detak jantung di atas 120 per detik: 1\n",
      "Rata-rata detak jantung keseluruhan: 113.5\n",
      "Nama-nama pasien dengan detak jantung di atas 120 per detik:\n",
      "dhea\n"
     ]
    }
   ],
   "source": [
    "# Inisialisasi list untuk menyimpan nama pasien dan detak jantung\n",
    "nama_pasien = []\n",
    "detak_jantung = []\n",
    "\n",
    "# Meminta jumlah pasien\n",
    "jumlah_pasien = int(input(\"Masukkan jumlah pasien yang akan didaftarkan: \"))\n",
    "\n",
    "# Memasukkan data pasien\n",
    "for i in range(jumlah_pasien):\n",
    "    nama = input(f\"Masukkan nama pasien ke-{i + 1}: \")\n",
    "    detak = int(input(f\"Masukkan detak jantung per detik untuk {nama}: \"))\n",
    "    nama_pasien.append(nama)\n",
    "    detak_jantung.append(detak)\n",
    "\n",
    "# Menghitung jumlah pasien dengan detak jantung di atas 120\n",
    "jumlah_detak_di_atas_120 = sum(1 for detak in detak_jantung if detak > 120)\n",
    "\n",
    "# Menghitung rata-rata detak jantung\n",
    "rata_rata_detak = sum(detak_jantung) / len(detak_jantung)\n",
    "\n",
    "# Mendapatkan nama-nama pasien dengan detak jantung di atas 120\n",
    "nama_detak_di_atas_120 = [nama_pasien[i] for i in range(len(detak_jantung)) if detak_jantung[i] > 120]\n",
    "\n",
    "# Menampilkan hasil\n",
    "print(f\"\\nJumlah pasien dengan detak jantung di atas 120 per detik: {jumlah_detak_di_atas_120}\")\n",
    "print(f\"Rata-rata detak jantung keseluruhan: {rata_rata_detak}\")\n",
    "print(\"Nama-nama pasien dengan detak jantung di atas 120 per detik:\")\n",
    "for nama in nama_detak_di_atas_120:\n",
    "    print(nama)\n"
   ]
  },
  {
   "cell_type": "code",
   "execution_count": null,
   "metadata": {},
   "outputs": [],
   "source": [
    "#DICTIONARY \n",
    "#Membuat Dictionary kosong\n",
    "my_dict={}\n",
    "\n",
    "#dictionary data awal\n",
    "my_dict = {'nama' : 'Dhea', 'usia' : 19, 'Kota' : 'Bandung'}\n",
    "\n",
    "#'nama' key\n"
   ]
  },
  {
   "cell_type": "code",
   "execution_count": 5,
   "metadata": {},
   "outputs": [
    {
     "name": "stdout",
     "output_type": "stream",
     "text": [
      "\n",
      "Nama saya adalah : Dhea \n",
      "Usia saya adalah : 19 \n",
      "Kota saya adalah : Bandung\n"
     ]
    }
   ],
   "source": [
    "#buat variabel, panggil key\n",
    "nama_saya = my_dict['nama']\n",
    "usia_saya = my_dict['usia']\n",
    "kota_saya = my_dict['Kota']\n",
    "\n",
    "print (f'\\nNama saya adalah : {nama_saya} \\nUsia saya adalah : {usia_saya} \\nKota saya adalah : {kota_saya}')"
   ]
  },
  {
   "cell_type": "code",
   "execution_count": 7,
   "metadata": {},
   "outputs": [
    {
     "data": {
      "text/plain": [
       "{'nama': 'Dhea', 'usia': 20, 'Kota': 'Bandung', 'Pekerjaan': 'Programer'}"
      ]
     },
     "execution_count": 7,
     "metadata": {},
     "output_type": "execute_result"
    }
   ],
   "source": [
    "my_dict = {'nama' : 'Dhea', 'usia' : 19, 'Kota' : 'Bandung'}\n",
    "\n",
    "#tambah item baru\n",
    "my_dict['Pekerjaan'] = 'Programer'\n",
    "my_dict\n",
    "\n",
    "#mengganti value\n",
    "my_dict ['usia'] = 20\n",
    "my_dict"
   ]
  },
  {
   "cell_type": "code",
   "execution_count": 13,
   "metadata": {},
   "outputs": [
    {
     "ename": "KeyError",
     "evalue": "'Kota'",
     "output_type": "error",
     "traceback": [
      "\u001b[1;31m---------------------------------------------------------------------------\u001b[0m",
      "\u001b[1;31mKeyError\u001b[0m                                  Traceback (most recent call last)",
      "Cell \u001b[1;32mIn[13], line 2\u001b[0m\n\u001b[0;32m      1\u001b[0m \u001b[38;5;66;03m# #menghapus item yg ada\u001b[39;00m\n\u001b[1;32m----> 2\u001b[0m \u001b[38;5;28;01mdel\u001b[39;00m \u001b[43mmy_dict\u001b[49m\u001b[43m[\u001b[49m\u001b[38;5;124;43m'\u001b[39;49m\u001b[38;5;124;43mKota\u001b[39;49m\u001b[38;5;124;43m'\u001b[39;49m\u001b[43m]\u001b[49m\n\u001b[0;32m      3\u001b[0m my_dict\n\u001b[0;32m      5\u001b[0m \u001b[38;5;66;03m# #menggunakan pop untuk menghapus dan mendapatkan nilai dimasukkan kedalam variabel\u001b[39;00m\n\u001b[0;32m      6\u001b[0m \u001b[38;5;66;03m# kota = my_dict.pop('Kota')\u001b[39;00m\n\u001b[0;32m      7\u001b[0m \u001b[38;5;66;03m# kota\u001b[39;00m\n",
      "\u001b[1;31mKeyError\u001b[0m: 'Kota'"
     ]
    }
   ],
   "source": [
    "# #menghapus item yg ada\n",
    "del my_dict['Kota']\n",
    "my_dict\n",
    "\n",
    "# #menggunakan pop untuk menghapus dan mendapatkan nilai dimasukkan kedalam variabel\n",
    "# kota = my_dict.pop('Kota')\n",
    "# kota"
   ]
  },
  {
   "cell_type": "code",
   "execution_count": 1,
   "metadata": {},
   "outputs": [
    {
     "data": {
      "text/plain": [
       "{'a': 1, 'b': 2}"
      ]
     },
     "execution_count": 1,
     "metadata": {},
     "output_type": "execute_result"
    }
   ],
   "source": [
    "#ganti variabel\n",
    "dict1 = {'a':1,'b':2}\n",
    "dict2 = {'b':3,'c':4}\n",
    "dict.update(dict2)\n",
    "dict1"
   ]
  },
  {
   "cell_type": "code",
   "execution_count": null,
   "metadata": {},
   "outputs": [
    {
     "name": "stdout",
     "output_type": "stream",
     "text": [
      "nama Dhea\n",
      "usia 27\n",
      "Kota Bandung\n"
     ]
    }
   ],
   "source": [
    "my_dict = {'nama' : 'Dhea', 'usia' : 19, 'Kota' : 'Bandung'}\n",
    "my_dict['usia'] = 27\n",
    "\n",
    "for i in my_dict:\n",
    "    print(i, my_dict[i])\n",
    "\n",
    "#i untuk key\n",
    "#my_dict untuk velue\n",
    "\n",
    "#pada dasarnya codingan ini untuk manggil KEY"
   ]
  },
  {
   "cell_type": "code",
   "execution_count": 16,
   "metadata": {},
   "outputs": [
    {
     "name": "stdout",
     "output_type": "stream",
     "text": [
      "Dhea\n",
      "27\n",
      "Bandung\n"
     ]
    }
   ],
   "source": [
    "#perulangan berdasarkan value\n",
    "my_dict = {'nama' : 'Dhea', 'usia' : 19, 'Kota' : 'Bandung'}\n",
    "my_dict['usia'] = 27\n",
    "\n",
    "for i in my_dict.values():\n",
    "    print(i)"
   ]
  },
  {
   "cell_type": "code",
   "execution_count": 17,
   "metadata": {},
   "outputs": [
    {
     "name": "stdout",
     "output_type": "stream",
     "text": [
      "nama Dhea\n",
      "usia 27\n",
      "Kota Bandung\n"
     ]
    }
   ],
   "source": [
    "#Perulangan berdsarkan item (key dan value)\n",
    "for i,j in my_dict.items():\n",
    "    print(i,j)\n",
    "\n",
    "#i adalah KEY\n",
    "#j adalah VALUE"
   ]
  },
  {
   "cell_type": "code",
   "execution_count": 20,
   "metadata": {},
   "outputs": [],
   "source": [
    "#Dictionary bersarang\n",
    "dict_banyak = {\n",
    "    'orang1' : {'nama': 'Dhea', 'usia': '19'},\n",
    "    'orang2' : {'nama': 'Yaya', 'usia': 17}\n",
    "}"
   ]
  },
  {
   "cell_type": "code",
   "execution_count": 25,
   "metadata": {},
   "outputs": [
    {
     "name": "stdout",
     "output_type": "stream",
     "text": [
      "nama orang 1 Dhea usianya 19 \n",
      "nama orang 2 Yaya usianya 17\n"
     ]
    }
   ],
   "source": [
    "nama_orang1 = (dict_banyak['orang1']['nama'])\n",
    "usia_orang1 = (dict_banyak['orang1']['usia'])\n",
    "nama_orang2 = (dict_banyak['orang2']['nama'])\n",
    "usia_orang2 = (dict_banyak['orang2']['usia'])\n",
    "print (f'nama orang 1 {nama_orang1} usianya {usia_orang1} \\nnama orang 2 {nama_orang2} usianya {usia_orang2}')\n"
   ]
  },
  {
   "cell_type": "code",
   "execution_count": 27,
   "metadata": {},
   "outputs": [
    {
     "name": "stdout",
     "output_type": "stream",
     "text": [
      "\n",
      "ID orang : {'nama': 'Dhea', 'usia': '19'} \n",
      "Nama : Dhea \n",
      "Usia : 19\n",
      "\n",
      "ID orang : {'nama': 'Dhea', 'usia': '19'} \n",
      "Nama : Yaya \n",
      "Usia : 17\n",
      "\n",
      "ID orang : {'nama': 'Dhea', 'usia': '19'} \n",
      "Nama : Dhea \n",
      "Usia : 19\n",
      "\n",
      "ID orang : {'nama': 'Dhea', 'usia': '19'} \n",
      "Nama : Yaya \n",
      "Usia : 17\n"
     ]
    }
   ],
   "source": [
    "#perulangan dict bersarang\n",
    "id_orang1 = (dict_banyak['orang1'])\n",
    "nama_orang1 = (dict_banyak['orang1']['nama'])\n",
    "usia_orang1 = (dict_banyak['orang1']['usia'])\n",
    "id_orang2 = (dict_banyak['orang1'])\n",
    "nama_orang2 = (dict_banyak['orang2']['nama'])\n",
    "usia_orang2 = (dict_banyak['orang2']['usia'])\n",
    "\n",
    "for i, j in dict_banyak.items():\n",
    "    print(f\"\\nID orang : {id_orang1} \\nNama : {nama_orang1} \\nUsia : {usia_orang1}\")\n",
    "    print(f\"\\nID orang : {id_orang2} \\nNama : {nama_orang2} \\nUsia : {usia_orang2}\")\n",
    "\n",
    "#i adalah KEY \n",
    "#j adalah value\n"
   ]
  },
  {
   "cell_type": "code",
   "execution_count": 28,
   "metadata": {},
   "outputs": [
    {
     "name": "stdout",
     "output_type": "stream",
     "text": [
      "ID orang : orang1\n",
      "Nama : Dhea\n",
      "usia : 19\n",
      "ID orang : orang2\n",
      "Nama : Yaya\n",
      "usia : 17\n"
     ]
    }
   ],
   "source": [
    "for i,j in dict_banyak.items():\n",
    "    print(f'ID orang : {i}')\n",
    "    print(f'Nama : {j['nama']}')\n",
    "    print(f'usia : {j['usia']}')\n"
   ]
  },
  {
   "cell_type": "code",
   "execution_count": 1,
   "metadata": {},
   "outputs": [
    {
     "name": "stdout",
     "output_type": "stream",
     "text": [
      "Jumlah sampah anorganik: 250 kg\n",
      "Lokasi pembuangan sampah B3: Tempat Pengelolaan B3\n",
      "\n",
      "Data sampah setelah pembaruan:\n",
      "{'organik': {'jumlah': 130, 'lokasi': 'TPA Organik'}, 'anorganik': {'jumlah': 250, 'lokasi': 'Pusat Daur Ulang'}, 'B3': {'jumlah': 60, 'lokasi': 'Tempat Pengelolaan B3'}, 'elektronik': {'jumlah': 40, 'lokasi': 'Pusat Pengelolaan Elektronik'}}\n",
      "\n",
      "Pemeriksaan pengelolaan sampah:\n",
      "Pengelolaan intensif diperlukan untuk organik.\n",
      "Pengelolaan intensif diperlukan untuk anorganik.\n",
      "B3 dalam batas aman.\n",
      "elektronik dalam batas aman.\n"
     ]
    }
   ],
   "source": [
    "# Membuat dictionary data_sampah\n",
    "data_sampah = {\n",
    "    \"organik\": {\n",
    "        \"jumlah\": 120,\n",
    "        \"lokasi\": \"TPA Organik\"\n",
    "    },\n",
    "    \"anorganik\": {\n",
    "        \"jumlah\": 250,\n",
    "        \"lokasi\": \"Pusat Daur Ulang\"\n",
    "    },\n",
    "    \"B3\": {\n",
    "        \"jumlah\": 60,\n",
    "        \"lokasi\": \"Tempat Pengelolaan B3\"\n",
    "    }\n",
    "}\n",
    "\n",
    "# Soal 1: Mencetak jumlah sampah anorganik dan lokasi pembuangan sampah B3\n",
    "jumlah_anorganik = data_sampah[\"anorganik\"][\"jumlah\"]\n",
    "lokasi_B3 = data_sampah[\"B3\"][\"lokasi\"]\n",
    "\n",
    "print(f\"Jumlah sampah anorganik: {jumlah_anorganik} kg\")\n",
    "print(f\"Lokasi pembuangan sampah B3: {lokasi_B3}\")\n",
    "\n",
    "# Soal 2: Menambah jenis sampah baru dan memperbarui jumlah sampah organik\n",
    "data_sampah[\"elektronik\"] = {\n",
    "    \"jumlah\": 40,\n",
    "    \"lokasi\": \"Pusat Pengelolaan Elektronik\"\n",
    "}\n",
    "\n",
    "data_sampah[\"organik\"][\"jumlah\"] = 130\n",
    "\n",
    "# Mencetak seluruh dictionary setelah pembaruan\n",
    "print(\"\\nData sampah setelah pembaruan:\")\n",
    "print(data_sampah)\n",
    "\n",
    "# Soal 3: Memeriksa setiap jenis sampah\n",
    "print(\"\\nPemeriksaan pengelolaan sampah:\")\n",
    "for jenis_sampah, info in data_sampah.items():\n",
    "    jumlah = info[\"jumlah\"]\n",
    "    if jumlah > 100:\n",
    "        print(f\"Pengelolaan intensif diperlukan untuk {jenis_sampah}.\")\n",
    "    else:\n",
    "        print(f\"{jenis_sampah} dalam batas aman.\")"
   ]
  },
  {
   "cell_type": "code",
   "execution_count": 1,
   "metadata": {},
   "outputs": [
    {
     "name": "stdout",
     "output_type": "stream",
     "text": [
      "Defaulting to user installation because normal site-packages is not writeable\n",
      "Requirement already satisfied: numpy in c:\\users\\lenovo\\appdata\\local\\packages\\pythonsoftwarefoundation.python.3.12_qbz5n2kfra8p0\\localcache\\local-packages\\python312\\site-packages (2.1.3)\n"
     ]
    },
    {
     "name": "stderr",
     "output_type": "stream",
     "text": [
      "\n",
      "[notice] A new release of pip is available: 24.2 -> 24.3.1\n",
      "[notice] To update, run: C:\\Users\\LENOVO\\AppData\\Local\\Microsoft\\WindowsApps\\PythonSoftwareFoundation.Python.3.12_qbz5n2kfra8p0\\python.exe -m pip install --upgrade pip\n"
     ]
    }
   ],
   "source": [
    "!pip install numpy"
   ]
  },
  {
   "cell_type": "code",
   "execution_count": 2,
   "metadata": {},
   "outputs": [],
   "source": [
    "import numpy as np"
   ]
  },
  {
   "cell_type": "code",
   "execution_count": 3,
   "metadata": {},
   "outputs": [
    {
     "name": "stdout",
     "output_type": "stream",
     "text": [
      "nilai array: 3\n"
     ]
    }
   ],
   "source": [
    "a = np.array([1,2,3])\n",
    "print(f\"nilai array: {a[2]}\")"
   ]
  },
  {
   "cell_type": "code",
   "execution_count": 12,
   "metadata": {},
   "outputs": [
    {
     "name": "stdout",
     "output_type": "stream",
     "text": [
      "[[1 2 3]\n",
      " [4 5 6]\n",
      " [7 8 9]]\n"
     ]
    }
   ],
   "source": [
    "#ARRAY DIMENSI\n",
    "\n",
    "a = np.array([[1,2,3], [4,5,6], [7,8,9]])\n",
    "print(a)\n",
    "\n",
    "#Mengakses element\n",
    "# a[baris,kolom]\n",
    "#element = a[2,2]\n",
    "\n",
    "#MENGAKSES 1 BARIS\n",
    "#semua baris di baris 2\n",
    "#row = a[2,:]\n",
    "\n",
    "#MENGAKSES 1 KOLOM\n",
    "#semua kolom di kolom 2\n",
    "#coloumn = a[:,1]\n",
    "\n",
    "#print(\"Element :\",element)\n",
    "#print(\"Row:\", row)\n",
    "#print(\"Column:\", coloumn)"
   ]
  },
  {
   "cell_type": "code",
   "execution_count": null,
   "metadata": {},
   "outputs": [
    {
     "name": "stdout",
     "output_type": "stream",
     "text": [
      "[1 2 9]\n"
     ]
    }
   ],
   "source": [
    "#ARITMATIKA ARRAY\n",
    "#jumlah kolom a harus sama dengan jumlah baris b\n",
    "a = np.array([1,1,3])\n",
    "b = np.array([1,1,4])\n",
    "\n",
    "#Penjumlahan = a + b\n",
    "perkalian = a * b\n",
    "print(perkalian)"
   ]
  },
  {
   "cell_type": "code",
   "execution_count": 16,
   "metadata": {},
   "outputs": [
    {
     "name": "stdout",
     "output_type": "stream",
     "text": [
      "Menggunakan perulangan for :\n",
      "10\n",
      "2\n",
      "3\n",
      "10\n",
      "2\n",
      "3\n",
      "4\n",
      "5\n",
      "9\n",
      "8\n"
     ]
    }
   ],
   "source": [
    "import numpy as np\n",
    "\n",
    "a = np.array([10,2,3,4,5,9,8])\n",
    "\n",
    "print(\"Menggunakan perulangan for :\")\n",
    "for i in range (3):\n",
    "    print (a[i])\n",
    "\n",
    "for i in a:\n",
    "    print(i)"
   ]
  },
  {
   "cell_type": "code",
   "execution_count": 19,
   "metadata": {},
   "outputs": [
    {
     "name": "stdout",
     "output_type": "stream",
     "text": [
      "Array1 [0, 0] : 1, Array2 [0, 0] : 7\n",
      "Array1 [0, 1] : 2, Array2 [0, 1] : 8\n",
      "Array1 [0, 2] : 3, Array2 [0, 2] : 9\n",
      "Array1 [1, 0] : 4, Array2 [1, 0] : 10\n",
      "Array1 [1, 1] : 5, Array2 [1, 1] : 11\n",
      "Array1 [1, 2] : 6, Array2 [1, 2] : 12\n"
     ]
    }
   ],
   "source": [
    "# 1 kolom\n",
    "# 0 baris\n",
    "\n",
    "array1 = np.array([[1,2,3], [4,5,6]])\n",
    "array2 = np.array([[7,8,9], [10,11,12]])\n",
    "\n",
    "for i in range(array1.shape[0]) :\n",
    "    for j in range(array2.shape[1]) :\n",
    "        print(f\"Array1 [{i}, {j}] : {array1[i,j]}, Array2 [{i}, {j}] : {array2[i,j]}\")"
   ]
  },
  {
   "cell_type": "code",
   "execution_count": 1,
   "metadata": {},
   "outputs": [
    {
     "name": "stdout",
     "output_type": "stream",
     "text": [
      "Collecting pandas\n",
      "  Downloading pandas-2.2.3-cp312-cp312-win_amd64.whl.metadata (19 kB)\n",
      "Collecting numpy>=1.26.0 (from pandas)\n",
      "  Using cached numpy-2.2.0-cp312-cp312-win_amd64.whl.metadata (60 kB)\n",
      "Requirement already satisfied: python-dateutil>=2.8.2 in c:\\users\\lenovo\\onedrive\\dokumen\\pemdas\\lat_env\\lib\\site-packages (from pandas) (2.9.0.post0)\n",
      "Collecting pytz>=2020.1 (from pandas)\n",
      "  Downloading pytz-2024.2-py2.py3-none-any.whl.metadata (22 kB)\n",
      "Collecting tzdata>=2022.7 (from pandas)\n",
      "  Downloading tzdata-2024.2-py2.py3-none-any.whl.metadata (1.4 kB)\n",
      "Requirement already satisfied: six>=1.5 in c:\\users\\lenovo\\onedrive\\dokumen\\pemdas\\lat_env\\lib\\site-packages (from python-dateutil>=2.8.2->pandas) (1.17.0)\n",
      "Downloading pandas-2.2.3-cp312-cp312-win_amd64.whl (11.5 MB)\n",
      "   ---------------------------------------- 0.0/11.5 MB ? eta -:--:--\n",
      "   ---------------------------------------- 0.0/11.5 MB ? eta -:--:--\n",
      "   ---------------------------------------- 0.0/11.5 MB ? eta -:--:--\n",
      "   ---------------------------------------- 0.0/11.5 MB ? eta -:--:--\n",
      "   ---------------------------------------- 0.0/11.5 MB ? eta -:--:--\n",
      "   ---------------------------------------- 0.0/11.5 MB ? eta -:--:--\n",
      "   ---------------------------------------- 0.0/11.5 MB ? eta -:--:--\n",
      "   ---------------------------------------- 0.0/11.5 MB ? eta -:--:--\n",
      "   ---------------------------------------- 0.0/11.5 MB ? eta -:--:--\n",
      "   ---------------------------------------- 0.0/11.5 MB ? eta -:--:--\n",
      "   ---------------------------------------- 0.0/11.5 MB ? eta -:--:--\n",
      "   ---------------------------------------- 0.0/11.5 MB ? eta -:--:--\n",
      "   ---------------------------------------- 0.0/11.5 MB ? eta -:--:--\n",
      "   ---------------------------------------- 0.0/11.5 MB ? eta -:--:--\n",
      "   ---------------------------------------- 0.0/11.5 MB ? eta -:--:--\n",
      "   ---------------------------------------- 0.0/11.5 MB ? eta -:--:--\n",
      "    --------------------------------------- 0.3/11.5 MB ? eta -:--:--\n",
      "    --------------------------------------- 0.3/11.5 MB ? eta -:--:--\n",
      "    --------------------------------------- 0.3/11.5 MB ? eta -:--:--\n",
      "    --------------------------------------- 0.3/11.5 MB ? eta -:--:--\n",
      "    --------------------------------------- 0.3/11.5 MB ? eta -:--:--\n",
      "    --------------------------------------- 0.3/11.5 MB ? eta -:--:--\n",
      "    --------------------------------------- 0.3/11.5 MB ? eta -:--:--\n",
      "    --------------------------------------- 0.3/11.5 MB ? eta -:--:--\n",
      "    --------------------------------------- 0.3/11.5 MB ? eta -:--:--\n",
      "    --------------------------------------- 0.3/11.5 MB ? eta -:--:--\n",
      "    --------------------------------------- 0.3/11.5 MB ? eta -:--:--\n",
      "    --------------------------------------- 0.3/11.5 MB ? eta -:--:--\n",
      "    --------------------------------------- 0.3/11.5 MB ? eta -:--:--\n",
      "    --------------------------------------- 0.3/11.5 MB ? eta -:--:--\n",
      "    --------------------------------------- 0.3/11.5 MB ? eta -:--:--\n",
      "    --------------------------------------- 0.3/11.5 MB ? eta -:--:--\n",
      "   - -------------------------------------- 0.5/11.5 MB 61.9 kB/s eta 0:02:58\n",
      "   - -------------------------------------- 0.5/11.5 MB 61.9 kB/s eta 0:02:58\n",
      "   - -------------------------------------- 0.5/11.5 MB 61.9 kB/s eta 0:02:58\n",
      "   - -------------------------------------- 0.5/11.5 MB 61.9 kB/s eta 0:02:58\n",
      "   - -------------------------------------- 0.5/11.5 MB 61.9 kB/s eta 0:02:58\n",
      "   - -------------------------------------- 0.5/11.5 MB 61.9 kB/s eta 0:02:58\n",
      "   - -------------------------------------- 0.5/11.5 MB 61.9 kB/s eta 0:02:58\n",
      "   - -------------------------------------- 0.5/11.5 MB 61.9 kB/s eta 0:02:58\n",
      "   - -------------------------------------- 0.5/11.5 MB 61.9 kB/s eta 0:02:58\n",
      "   - -------------------------------------- 0.5/11.5 MB 61.9 kB/s eta 0:02:58\n",
      "   - -------------------------------------- 0.5/11.5 MB 61.9 kB/s eta 0:02:58\n",
      "   - -------------------------------------- 0.5/11.5 MB 61.9 kB/s eta 0:02:58\n",
      "   - -------------------------------------- 0.5/11.5 MB 61.9 kB/s eta 0:02:58\n",
      "   - -------------------------------------- 0.5/11.5 MB 61.9 kB/s eta 0:02:58\n",
      "   - -------------------------------------- 0.5/11.5 MB 61.9 kB/s eta 0:02:58\n",
      "   - -------------------------------------- 0.5/11.5 MB 61.9 kB/s eta 0:02:58\n",
      "   - -------------------------------------- 0.5/11.5 MB 61.9 kB/s eta 0:02:58\n",
      "   - -------------------------------------- 0.5/11.5 MB 61.9 kB/s eta 0:02:58\n",
      "   - -------------------------------------- 0.5/11.5 MB 61.9 kB/s eta 0:02:58\n",
      "   - -------------------------------------- 0.5/11.5 MB 61.9 kB/s eta 0:02:58\n",
      "   - -------------------------------------- 0.5/11.5 MB 61.9 kB/s eta 0:02:58\n",
      "   -- ------------------------------------- 0.8/11.5 MB 57.1 kB/s eta 0:03:08\n",
      "   -- ------------------------------------- 0.8/11.5 MB 57.1 kB/s eta 0:03:08\n",
      "   -- ------------------------------------- 0.8/11.5 MB 57.1 kB/s eta 0:03:08\n",
      "   -- ------------------------------------- 0.8/11.5 MB 57.1 kB/s eta 0:03:08\n",
      "   -- ------------------------------------- 0.8/11.5 MB 57.1 kB/s eta 0:03:08\n",
      "   -- ------------------------------------- 0.8/11.5 MB 57.1 kB/s eta 0:03:08\n",
      "   -- ------------------------------------- 0.8/11.5 MB 57.1 kB/s eta 0:03:08\n",
      "   -- ------------------------------------- 0.8/11.5 MB 57.1 kB/s eta 0:03:08\n",
      "   -- ------------------------------------- 0.8/11.5 MB 57.1 kB/s eta 0:03:08\n",
      "   -- ------------------------------------- 0.8/11.5 MB 57.1 kB/s eta 0:03:08\n",
      "   -- ------------------------------------- 0.8/11.5 MB 57.1 kB/s eta 0:03:08\n",
      "   -- ------------------------------------- 0.8/11.5 MB 57.1 kB/s eta 0:03:08\n",
      "   -- ------------------------------------- 0.8/11.5 MB 57.1 kB/s eta 0:03:08\n",
      "   -- ------------------------------------- 0.8/11.5 MB 57.1 kB/s eta 0:03:08\n",
      "   -- ------------------------------------- 0.8/11.5 MB 57.1 kB/s eta 0:03:08\n",
      "   -- ------------------------------------- 0.8/11.5 MB 57.1 kB/s eta 0:03:08\n",
      "   --- ------------------------------------ 1.0/11.5 MB 57.6 kB/s eta 0:03:02\n",
      "   --- ------------------------------------ 1.0/11.5 MB 57.6 kB/s eta 0:03:02\n",
      "   --- ------------------------------------ 1.0/11.5 MB 57.6 kB/s eta 0:03:02\n",
      "   --- ------------------------------------ 1.0/11.5 MB 57.6 kB/s eta 0:03:02\n",
      "   --- ------------------------------------ 1.0/11.5 MB 57.6 kB/s eta 0:03:02\n",
      "   --- ------------------------------------ 1.0/11.5 MB 57.6 kB/s eta 0:03:02\n",
      "   --- ------------------------------------ 1.0/11.5 MB 57.6 kB/s eta 0:03:02\n",
      "   --- ------------------------------------ 1.0/11.5 MB 57.6 kB/s eta 0:03:02\n",
      "   --- ------------------------------------ 1.0/11.5 MB 57.6 kB/s eta 0:03:02\n",
      "   --- ------------------------------------ 1.0/11.5 MB 57.6 kB/s eta 0:03:02\n",
      "   --- ------------------------------------ 1.0/11.5 MB 57.6 kB/s eta 0:03:02\n",
      "   --- ------------------------------------ 1.0/11.5 MB 57.6 kB/s eta 0:03:02\n",
      "   --- ------------------------------------ 1.0/11.5 MB 57.6 kB/s eta 0:03:02\n",
      "   --- ------------------------------------ 1.0/11.5 MB 57.6 kB/s eta 0:03:02\n",
      "   --- ------------------------------------ 1.0/11.5 MB 57.6 kB/s eta 0:03:02\n",
      "   --- ------------------------------------ 1.0/11.5 MB 57.6 kB/s eta 0:03:02\n",
      "   --- ------------------------------------ 1.0/11.5 MB 57.6 kB/s eta 0:03:02\n",
      "   --- ------------------------------------ 1.0/11.5 MB 57.6 kB/s eta 0:03:02\n",
      "   --- ------------------------------------ 1.0/11.5 MB 57.6 kB/s eta 0:03:02\n",
      "   ---- ----------------------------------- 1.3/11.5 MB 57.6 kB/s eta 0:02:58\n",
      "   ---- ----------------------------------- 1.3/11.5 MB 57.6 kB/s eta 0:02:58\n",
      "   ---- ----------------------------------- 1.3/11.5 MB 57.6 kB/s eta 0:02:58\n",
      "   ---- ----------------------------------- 1.3/11.5 MB 57.6 kB/s eta 0:02:58\n",
      "   ---- ----------------------------------- 1.3/11.5 MB 57.6 kB/s eta 0:02:58\n",
      "   ---- ----------------------------------- 1.3/11.5 MB 57.6 kB/s eta 0:02:58\n",
      "   ---- ----------------------------------- 1.3/11.5 MB 57.6 kB/s eta 0:02:58\n",
      "   ---- ----------------------------------- 1.3/11.5 MB 57.6 kB/s eta 0:02:58\n",
      "   ---- ----------------------------------- 1.3/11.5 MB 57.6 kB/s eta 0:02:58\n",
      "   ---- ----------------------------------- 1.3/11.5 MB 57.6 kB/s eta 0:02:58\n",
      "   ---- ----------------------------------- 1.3/11.5 MB 57.6 kB/s eta 0:02:58\n",
      "   ---- ----------------------------------- 1.3/11.5 MB 57.6 kB/s eta 0:02:58\n",
      "   ---- ----------------------------------- 1.3/11.5 MB 57.6 kB/s eta 0:02:58\n",
      "   ---- ----------------------------------- 1.3/11.5 MB 57.6 kB/s eta 0:02:58\n",
      "   ---- ----------------------------------- 1.3/11.5 MB 57.6 kB/s eta 0:02:58\n",
      "   ---- ----------------------------------- 1.3/11.5 MB 57.6 kB/s eta 0:02:58\n",
      "   ---- ----------------------------------- 1.3/11.5 MB 57.6 kB/s eta 0:02:58\n",
      "   ---- ----------------------------------- 1.3/11.5 MB 57.6 kB/s eta 0:02:58\n",
      "   ---- ----------------------------------- 1.3/11.5 MB 57.6 kB/s eta 0:02:58\n",
      "   ---- ----------------------------------- 1.3/11.5 MB 57.6 kB/s eta 0:02:58\n",
      "   ----- ---------------------------------- 1.6/11.5 MB 58.1 kB/s eta 0:02:51\n",
      "   ----- ---------------------------------- 1.6/11.5 MB 58.1 kB/s eta 0:02:51\n",
      "   ----- ---------------------------------- 1.6/11.5 MB 58.1 kB/s eta 0:02:51\n",
      "   ----- ---------------------------------- 1.6/11.5 MB 58.1 kB/s eta 0:02:51\n",
      "   ----- ---------------------------------- 1.6/11.5 MB 58.1 kB/s eta 0:02:51\n",
      "   ----- ---------------------------------- 1.6/11.5 MB 58.1 kB/s eta 0:02:51\n",
      "   ----- ---------------------------------- 1.6/11.5 MB 58.1 kB/s eta 0:02:51\n",
      "   ----- ---------------------------------- 1.6/11.5 MB 58.1 kB/s eta 0:02:51\n",
      "   ----- ---------------------------------- 1.6/11.5 MB 58.1 kB/s eta 0:02:51\n",
      "   ----- ---------------------------------- 1.6/11.5 MB 58.1 kB/s eta 0:02:51\n",
      "   ----- ---------------------------------- 1.6/11.5 MB 58.1 kB/s eta 0:02:51\n",
      "   ----- ---------------------------------- 1.6/11.5 MB 58.1 kB/s eta 0:02:51\n",
      "   ------ --------------------------------- 1.8/11.5 MB 60.5 kB/s eta 0:02:40\n",
      "   ------ --------------------------------- 1.8/11.5 MB 60.5 kB/s eta 0:02:40\n",
      "   ------ --------------------------------- 1.8/11.5 MB 60.5 kB/s eta 0:02:40\n",
      "   ------ --------------------------------- 1.8/11.5 MB 60.5 kB/s eta 0:02:40\n",
      "   ------ --------------------------------- 1.8/11.5 MB 60.5 kB/s eta 0:02:40\n",
      "   ------ --------------------------------- 1.8/11.5 MB 60.5 kB/s eta 0:02:40\n",
      "   ------ --------------------------------- 1.8/11.5 MB 60.5 kB/s eta 0:02:40\n",
      "   ------ --------------------------------- 1.8/11.5 MB 60.5 kB/s eta 0:02:40\n",
      "   ------ --------------------------------- 1.8/11.5 MB 60.5 kB/s eta 0:02:40\n",
      "   ------ --------------------------------- 1.8/11.5 MB 60.5 kB/s eta 0:02:40\n",
      "   ------ --------------------------------- 1.8/11.5 MB 60.5 kB/s eta 0:02:40\n",
      "   ------ --------------------------------- 1.8/11.5 MB 60.5 kB/s eta 0:02:40\n",
      "   ------ --------------------------------- 1.8/11.5 MB 60.5 kB/s eta 0:02:40\n",
      "   ------ --------------------------------- 1.8/11.5 MB 60.5 kB/s eta 0:02:40\n",
      "   ------ --------------------------------- 1.8/11.5 MB 60.5 kB/s eta 0:02:40\n",
      "   ------ --------------------------------- 1.8/11.5 MB 60.5 kB/s eta 0:02:40\n",
      "   ------- -------------------------------- 2.1/11.5 MB 59.6 kB/s eta 0:02:38\n",
      "   ------- -------------------------------- 2.1/11.5 MB 59.6 kB/s eta 0:02:38\n",
      "   ------- -------------------------------- 2.1/11.5 MB 59.6 kB/s eta 0:02:38\n",
      "   ------- -------------------------------- 2.1/11.5 MB 59.6 kB/s eta 0:02:38\n",
      "   ------- -------------------------------- 2.1/11.5 MB 59.6 kB/s eta 0:02:38\n",
      "   ------- -------------------------------- 2.1/11.5 MB 59.6 kB/s eta 0:02:38\n",
      "   ------- -------------------------------- 2.1/11.5 MB 59.6 kB/s eta 0:02:38\n",
      "   ------- -------------------------------- 2.1/11.5 MB 59.6 kB/s eta 0:02:38\n",
      "   ------- -------------------------------- 2.1/11.5 MB 59.6 kB/s eta 0:02:38\n",
      "   ------- -------------------------------- 2.1/11.5 MB 59.6 kB/s eta 0:02:38\n",
      "   ------- -------------------------------- 2.1/11.5 MB 59.6 kB/s eta 0:02:38\n",
      "   ------- -------------------------------- 2.1/11.5 MB 59.6 kB/s eta 0:02:38\n",
      "   ------- -------------------------------- 2.1/11.5 MB 59.6 kB/s eta 0:02:38\n",
      "   -------- ------------------------------- 2.4/11.5 MB 61.2 kB/s eta 0:02:30\n",
      "   -------- ------------------------------- 2.4/11.5 MB 61.2 kB/s eta 0:02:30\n",
      "   -------- ------------------------------- 2.4/11.5 MB 61.2 kB/s eta 0:02:30\n",
      "   -------- ------------------------------- 2.4/11.5 MB 61.2 kB/s eta 0:02:30\n",
      "   -------- ------------------------------- 2.4/11.5 MB 61.2 kB/s eta 0:02:30\n",
      "   -------- ------------------------------- 2.4/11.5 MB 61.2 kB/s eta 0:02:30\n",
      "   -------- ------------------------------- 2.4/11.5 MB 61.2 kB/s eta 0:02:30\n",
      "   -------- ------------------------------- 2.4/11.5 MB 61.2 kB/s eta 0:02:30\n",
      "   -------- ------------------------------- 2.4/11.5 MB 61.2 kB/s eta 0:02:30\n",
      "   -------- ------------------------------- 2.4/11.5 MB 61.2 kB/s eta 0:02:30\n",
      "   -------- ------------------------------- 2.4/11.5 MB 61.2 kB/s eta 0:02:30\n",
      "   -------- ------------------------------- 2.4/11.5 MB 61.2 kB/s eta 0:02:30\n",
      "   -------- ------------------------------- 2.4/11.5 MB 61.2 kB/s eta 0:02:30\n",
      "   -------- ------------------------------- 2.4/11.5 MB 61.2 kB/s eta 0:02:30\n",
      "   -------- ------------------------------- 2.4/11.5 MB 61.2 kB/s eta 0:02:30\n",
      "   --------- ------------------------------ 2.6/11.5 MB 64.5 kB/s eta 0:02:18\n",
      "   --------- ------------------------------ 2.6/11.5 MB 64.5 kB/s eta 0:02:18\n",
      "   --------- ------------------------------ 2.6/11.5 MB 64.5 kB/s eta 0:02:18\n",
      "   --------- ------------------------------ 2.6/11.5 MB 64.5 kB/s eta 0:02:18\n",
      "   --------- ------------------------------ 2.6/11.5 MB 64.5 kB/s eta 0:02:18\n",
      "   --------- ------------------------------ 2.6/11.5 MB 64.5 kB/s eta 0:02:18\n",
      "   --------- ------------------------------ 2.6/11.5 MB 64.5 kB/s eta 0:02:18\n",
      "   --------- ------------------------------ 2.6/11.5 MB 64.5 kB/s eta 0:02:18\n",
      "   --------- ------------------------------ 2.6/11.5 MB 64.5 kB/s eta 0:02:18\n",
      "   --------- ------------------------------ 2.6/11.5 MB 64.5 kB/s eta 0:02:18\n",
      "   --------- ------------------------------ 2.6/11.5 MB 64.5 kB/s eta 0:02:18\n",
      "   --------- ------------------------------ 2.6/11.5 MB 64.5 kB/s eta 0:02:18\n",
      "   --------- ------------------------------ 2.6/11.5 MB 64.5 kB/s eta 0:02:18\n",
      "   --------- ------------------------------ 2.6/11.5 MB 64.5 kB/s eta 0:02:18\n",
      "   --------- ------------------------------ 2.6/11.5 MB 64.5 kB/s eta 0:02:18\n",
      "   --------- ------------------------------ 2.6/11.5 MB 64.5 kB/s eta 0:02:18\n",
      "   --------- ------------------------------ 2.6/11.5 MB 64.5 kB/s eta 0:02:18\n",
      "   --------- ------------------------------ 2.6/11.5 MB 64.5 kB/s eta 0:02:18\n",
      "   --------- ------------------------------ 2.6/11.5 MB 64.5 kB/s eta 0:02:18\n",
      "   ---------- ----------------------------- 2.9/11.5 MB 64.8 kB/s eta 0:02:14\n",
      "   ---------- ----------------------------- 2.9/11.5 MB 64.8 kB/s eta 0:02:14\n",
      "   ---------- ----------------------------- 2.9/11.5 MB 64.8 kB/s eta 0:02:14\n",
      "   ---------- ----------------------------- 2.9/11.5 MB 64.8 kB/s eta 0:02:14\n",
      "   ---------- ----------------------------- 2.9/11.5 MB 64.8 kB/s eta 0:02:14\n",
      "   ---------- ----------------------------- 2.9/11.5 MB 64.8 kB/s eta 0:02:14\n",
      "   ---------- ----------------------------- 2.9/11.5 MB 64.8 kB/s eta 0:02:14\n",
      "   ---------- ----------------------------- 2.9/11.5 MB 64.8 kB/s eta 0:02:14\n",
      "   ---------- ----------------------------- 2.9/11.5 MB 64.8 kB/s eta 0:02:14\n",
      "   ---------- ----------------------------- 2.9/11.5 MB 64.8 kB/s eta 0:02:14\n",
      "   ---------- ----------------------------- 2.9/11.5 MB 64.8 kB/s eta 0:02:14\n",
      "   ---------- ----------------------------- 3.1/11.5 MB 68.0 kB/s eta 0:02:03\n",
      "   ---------- ----------------------------- 3.1/11.5 MB 68.0 kB/s eta 0:02:03\n",
      "   ---------- ----------------------------- 3.1/11.5 MB 68.0 kB/s eta 0:02:03\n",
      "   ---------- ----------------------------- 3.1/11.5 MB 68.0 kB/s eta 0:02:03\n",
      "   ---------- ----------------------------- 3.1/11.5 MB 68.0 kB/s eta 0:02:03\n",
      "   ---------- ----------------------------- 3.1/11.5 MB 68.0 kB/s eta 0:02:03\n",
      "   ---------- ----------------------------- 3.1/11.5 MB 68.0 kB/s eta 0:02:03\n",
      "   ---------- ----------------------------- 3.1/11.5 MB 68.0 kB/s eta 0:02:03\n",
      "   ---------- ----------------------------- 3.1/11.5 MB 68.0 kB/s eta 0:02:03\n",
      "   ---------- ----------------------------- 3.1/11.5 MB 68.0 kB/s eta 0:02:03\n",
      "   ---------- ----------------------------- 3.1/11.5 MB 68.0 kB/s eta 0:02:03\n",
      "   ---------- ----------------------------- 3.1/11.5 MB 68.0 kB/s eta 0:02:03\n",
      "   ----------- ---------------------------- 3.4/11.5 MB 70.8 kB/s eta 0:01:55\n",
      "   ----------- ---------------------------- 3.4/11.5 MB 70.8 kB/s eta 0:01:55\n",
      "   ----------- ---------------------------- 3.4/11.5 MB 70.8 kB/s eta 0:01:55\n",
      "   ----------- ---------------------------- 3.4/11.5 MB 70.8 kB/s eta 0:01:55\n",
      "   ----------- ---------------------------- 3.4/11.5 MB 70.8 kB/s eta 0:01:55\n",
      "   ----------- ---------------------------- 3.4/11.5 MB 70.8 kB/s eta 0:01:55\n",
      "   ----------- ---------------------------- 3.4/11.5 MB 70.8 kB/s eta 0:01:55\n",
      "   ----------- ---------------------------- 3.4/11.5 MB 70.8 kB/s eta 0:01:55\n",
      "   ----------- ---------------------------- 3.4/11.5 MB 70.8 kB/s eta 0:01:55\n",
      "   ----------- ---------------------------- 3.4/11.5 MB 70.8 kB/s eta 0:01:55\n",
      "   ----------- ---------------------------- 3.4/11.5 MB 70.8 kB/s eta 0:01:55\n",
      "   ------------ --------------------------- 3.7/11.5 MB 72.3 kB/s eta 0:01:49\n",
      "   ------------ --------------------------- 3.7/11.5 MB 72.3 kB/s eta 0:01:49\n",
      "   ------------ --------------------------- 3.7/11.5 MB 72.3 kB/s eta 0:01:49\n",
      "   ------------ --------------------------- 3.7/11.5 MB 72.3 kB/s eta 0:01:49\n",
      "   ------------ --------------------------- 3.7/11.5 MB 72.3 kB/s eta 0:01:49\n",
      "   ------------ --------------------------- 3.7/11.5 MB 72.3 kB/s eta 0:01:49\n",
      "   ------------ --------------------------- 3.7/11.5 MB 72.3 kB/s eta 0:01:49\n",
      "   ------------ --------------------------- 3.7/11.5 MB 72.3 kB/s eta 0:01:49\n",
      "   ------------ --------------------------- 3.7/11.5 MB 72.3 kB/s eta 0:01:49\n",
      "   ------------ --------------------------- 3.7/11.5 MB 72.3 kB/s eta 0:01:49\n",
      "   ------------ --------------------------- 3.7/11.5 MB 72.3 kB/s eta 0:01:49\n",
      "   ------------ --------------------------- 3.7/11.5 MB 72.3 kB/s eta 0:01:49\n",
      "   ------------ --------------------------- 3.7/11.5 MB 72.3 kB/s eta 0:01:49\n",
      "   ------------ --------------------------- 3.7/11.5 MB 72.3 kB/s eta 0:01:49\n",
      "   ------------ --------------------------- 3.7/11.5 MB 72.3 kB/s eta 0:01:49\n",
      "   ------------- -------------------------- 3.9/11.5 MB 73.0 kB/s eta 0:01:44\n",
      "   ------------- -------------------------- 3.9/11.5 MB 73.0 kB/s eta 0:01:44\n",
      "   ------------- -------------------------- 3.9/11.5 MB 73.0 kB/s eta 0:01:44\n",
      "   ------------- -------------------------- 3.9/11.5 MB 73.0 kB/s eta 0:01:44\n",
      "   ------------- -------------------------- 3.9/11.5 MB 73.0 kB/s eta 0:01:44\n",
      "   ------------- -------------------------- 3.9/11.5 MB 73.0 kB/s eta 0:01:44\n",
      "   ------------- -------------------------- 3.9/11.5 MB 73.0 kB/s eta 0:01:44\n",
      "   ------------- -------------------------- 3.9/11.5 MB 73.0 kB/s eta 0:01:44\n",
      "   ------------- -------------------------- 3.9/11.5 MB 73.0 kB/s eta 0:01:44\n",
      "   -------------- ------------------------- 4.2/11.5 MB 77.0 kB/s eta 0:01:35\n",
      "   -------------- ------------------------- 4.2/11.5 MB 77.0 kB/s eta 0:01:35\n",
      "   -------------- ------------------------- 4.2/11.5 MB 77.0 kB/s eta 0:01:35\n",
      "   -------------- ------------------------- 4.2/11.5 MB 77.0 kB/s eta 0:01:35\n",
      "   -------------- ------------------------- 4.2/11.5 MB 77.0 kB/s eta 0:01:35\n",
      "   -------------- ------------------------- 4.2/11.5 MB 77.0 kB/s eta 0:01:35\n",
      "   -------------- ------------------------- 4.2/11.5 MB 77.0 kB/s eta 0:01:35\n",
      "   -------------- ------------------------- 4.2/11.5 MB 77.0 kB/s eta 0:01:35\n",
      "   -------------- ------------------------- 4.2/11.5 MB 77.0 kB/s eta 0:01:35\n",
      "   -------------- ------------------------- 4.2/11.5 MB 77.0 kB/s eta 0:01:35\n",
      "   -------------- ------------------------- 4.2/11.5 MB 77.0 kB/s eta 0:01:35\n",
      "   -------------- ------------------------- 4.2/11.5 MB 77.0 kB/s eta 0:01:35\n",
      "   -------------- ------------------------- 4.2/11.5 MB 77.0 kB/s eta 0:01:35\n",
      "   -------------- ------------------------- 4.2/11.5 MB 77.0 kB/s eta 0:01:35\n",
      "   -------------- ------------------------- 4.2/11.5 MB 77.0 kB/s eta 0:01:35\n",
      "   -------------- ------------------------- 4.2/11.5 MB 77.0 kB/s eta 0:01:35\n",
      "   -------------- ------------------------- 4.2/11.5 MB 77.0 kB/s eta 0:01:35\n",
      "   -------------- ------------------------- 4.2/11.5 MB 77.0 kB/s eta 0:01:35\n",
      "   --------------- ------------------------ 4.5/11.5 MB 75.2 kB/s eta 0:01:34\n",
      "   --------------- ------------------------ 4.5/11.5 MB 75.2 kB/s eta 0:01:34\n",
      "   --------------- ------------------------ 4.5/11.5 MB 75.2 kB/s eta 0:01:34\n",
      "   --------------- ------------------------ 4.5/11.5 MB 75.2 kB/s eta 0:01:34\n",
      "   --------------- ------------------------ 4.5/11.5 MB 75.2 kB/s eta 0:01:34\n",
      "   --------------- ------------------------ 4.5/11.5 MB 75.2 kB/s eta 0:01:34\n",
      "   --------------- ------------------------ 4.5/11.5 MB 75.2 kB/s eta 0:01:34\n",
      "   --------------- ------------------------ 4.5/11.5 MB 75.2 kB/s eta 0:01:34\n",
      "   --------------- ------------------------ 4.5/11.5 MB 75.2 kB/s eta 0:01:34\n",
      "   --------------- ------------------------ 4.5/11.5 MB 75.2 kB/s eta 0:01:34\n",
      "   --------------- ------------------------ 4.5/11.5 MB 75.2 kB/s eta 0:01:34\n",
      "   --------------- ------------------------ 4.5/11.5 MB 75.2 kB/s eta 0:01:34\n",
      "   ---------------- ----------------------- 4.7/11.5 MB 75.3 kB/s eta 0:01:31\n",
      "   ---------------- ----------------------- 4.7/11.5 MB 75.3 kB/s eta 0:01:31\n",
      "   ---------------- ----------------------- 4.7/11.5 MB 75.3 kB/s eta 0:01:31\n",
      "   ---------------- ----------------------- 4.7/11.5 MB 75.3 kB/s eta 0:01:31\n",
      "   ---------------- ----------------------- 4.7/11.5 MB 75.3 kB/s eta 0:01:31\n",
      "   ---------------- ----------------------- 4.7/11.5 MB 75.3 kB/s eta 0:01:31\n",
      "   ---------------- ----------------------- 4.7/11.5 MB 75.3 kB/s eta 0:01:31\n",
      "   ---------------- ----------------------- 4.7/11.5 MB 75.3 kB/s eta 0:01:31\n",
      "   ---------------- ----------------------- 4.7/11.5 MB 75.3 kB/s eta 0:01:31\n",
      "   ---------------- ----------------------- 4.7/11.5 MB 75.3 kB/s eta 0:01:31\n",
      "   ---------------- ----------------------- 4.7/11.5 MB 75.3 kB/s eta 0:01:31\n",
      "   ---------------- ----------------------- 4.7/11.5 MB 75.3 kB/s eta 0:01:31\n",
      "   ---------------- ----------------------- 4.7/11.5 MB 75.3 kB/s eta 0:01:31\n",
      "   ---------------- ----------------------- 4.7/11.5 MB 75.3 kB/s eta 0:01:31\n",
      "   ---------------- ----------------------- 4.7/11.5 MB 75.3 kB/s eta 0:01:31\n",
      "   ----------------- ---------------------- 5.0/11.5 MB 76.5 kB/s eta 0:01:26\n",
      "   ----------------- ---------------------- 5.0/11.5 MB 76.5 kB/s eta 0:01:26\n",
      "   ----------------- ---------------------- 5.0/11.5 MB 76.5 kB/s eta 0:01:26\n",
      "   ----------------- ---------------------- 5.0/11.5 MB 76.5 kB/s eta 0:01:26\n",
      "   ----------------- ---------------------- 5.0/11.5 MB 76.5 kB/s eta 0:01:26\n",
      "   ----------------- ---------------------- 5.0/11.5 MB 76.5 kB/s eta 0:01:26\n",
      "   ----------------- ---------------------- 5.0/11.5 MB 76.5 kB/s eta 0:01:26\n",
      "   ----------------- ---------------------- 5.0/11.5 MB 76.5 kB/s eta 0:01:26\n",
      "   ----------------- ---------------------- 5.0/11.5 MB 76.5 kB/s eta 0:01:26\n",
      "   ----------------- ---------------------- 5.0/11.5 MB 76.5 kB/s eta 0:01:26\n",
      "   ----------------- ---------------------- 5.0/11.5 MB 76.5 kB/s eta 0:01:26\n",
      "   ----------------- ---------------------- 5.0/11.5 MB 76.5 kB/s eta 0:01:26\n",
      "   ----------------- ---------------------- 5.0/11.5 MB 76.5 kB/s eta 0:01:26\n",
      "   ----------------- ---------------------- 5.0/11.5 MB 76.5 kB/s eta 0:01:26\n",
      "   ----------------- ---------------------- 5.0/11.5 MB 76.5 kB/s eta 0:01:26\n",
      "   ----------------- ---------------------- 5.0/11.5 MB 76.5 kB/s eta 0:01:26\n",
      "   ----------------- ---------------------- 5.0/11.5 MB 76.5 kB/s eta 0:01:26\n",
      "   ----------------- ---------------------- 5.0/11.5 MB 76.5 kB/s eta 0:01:26\n",
      "   ----------------- ---------------------- 5.0/11.5 MB 76.5 kB/s eta 0:01:26\n",
      "   ----------------- ---------------------- 5.0/11.5 MB 76.5 kB/s eta 0:01:26\n",
      "   ----------------- ---------------------- 5.0/11.5 MB 76.5 kB/s eta 0:01:26\n",
      "   ----------------- ---------------------- 5.0/11.5 MB 76.5 kB/s eta 0:01:26\n",
      "   ----------------- ---------------------- 5.0/11.5 MB 76.5 kB/s eta 0:01:26\n",
      "   ----------------- ---------------------- 5.0/11.5 MB 76.5 kB/s eta 0:01:26\n",
      "   ----------------- ---------------------- 5.0/11.5 MB 76.5 kB/s eta 0:01:26\n",
      "   ------------------ --------------------- 5.2/11.5 MB 67.5 kB/s eta 0:01:33\n",
      "   ------------------ --------------------- 5.2/11.5 MB 67.5 kB/s eta 0:01:33\n",
      "   ------------------ --------------------- 5.2/11.5 MB 67.5 kB/s eta 0:01:33\n",
      "   ------------------ --------------------- 5.2/11.5 MB 67.5 kB/s eta 0:01:33\n",
      "   ------------------ --------------------- 5.2/11.5 MB 67.5 kB/s eta 0:01:33\n",
      "   ------------------ --------------------- 5.2/11.5 MB 67.5 kB/s eta 0:01:33\n",
      "   ------------------ --------------------- 5.2/11.5 MB 67.5 kB/s eta 0:01:33\n",
      "   ------------------ --------------------- 5.2/11.5 MB 67.5 kB/s eta 0:01:33\n",
      "   ------------------ --------------------- 5.2/11.5 MB 67.5 kB/s eta 0:01:33\n",
      "   ------------------ --------------------- 5.2/11.5 MB 67.5 kB/s eta 0:01:33\n",
      "   ------------------ --------------------- 5.2/11.5 MB 67.5 kB/s eta 0:01:33\n",
      "   ------------------ --------------------- 5.2/11.5 MB 67.5 kB/s eta 0:01:33\n",
      "   ------------------ --------------------- 5.2/11.5 MB 67.5 kB/s eta 0:01:33\n",
      "   ------------------ --------------------- 5.2/11.5 MB 67.5 kB/s eta 0:01:33\n",
      "   ------------------ --------------------- 5.2/11.5 MB 67.5 kB/s eta 0:01:33\n",
      "   ------------------ --------------------- 5.2/11.5 MB 67.5 kB/s eta 0:01:33\n",
      "   ------------------ --------------------- 5.2/11.5 MB 67.5 kB/s eta 0:01:33\n",
      "   ------------------ --------------------- 5.2/11.5 MB 67.5 kB/s eta 0:01:33\n",
      "   ------------------ --------------------- 5.2/11.5 MB 67.5 kB/s eta 0:01:33\n",
      "   ------------------ --------------------- 5.2/11.5 MB 67.5 kB/s eta 0:01:33\n",
      "   ------------------ --------------------- 5.2/11.5 MB 67.5 kB/s eta 0:01:33\n",
      "   ------------------ --------------------- 5.2/11.5 MB 67.5 kB/s eta 0:01:33\n",
      "   ------------------ --------------------- 5.2/11.5 MB 67.5 kB/s eta 0:01:33\n",
      "   ------------------ --------------------- 5.2/11.5 MB 67.5 kB/s eta 0:01:33\n",
      "   ------------------ --------------------- 5.2/11.5 MB 67.5 kB/s eta 0:01:33\n",
      "   ------------------ --------------------- 5.2/11.5 MB 67.5 kB/s eta 0:01:33\n",
      "   ------------------ --------------------- 5.2/11.5 MB 67.5 kB/s eta 0:01:33\n",
      "   ------------------ --------------------- 5.2/11.5 MB 67.5 kB/s eta 0:01:33\n",
      "   ------------------ --------------------- 5.2/11.5 MB 67.5 kB/s eta 0:01:33\n",
      "   ------------------ --------------------- 5.2/11.5 MB 67.5 kB/s eta 0:01:33\n",
      "   ------------------ --------------------- 5.2/11.5 MB 67.5 kB/s eta 0:01:33\n",
      "   ------------------ --------------------- 5.2/11.5 MB 67.5 kB/s eta 0:01:33\n",
      "   ------------------ --------------------- 5.2/11.5 MB 67.5 kB/s eta 0:01:33\n",
      "   ------------------ --------------------- 5.2/11.5 MB 67.5 kB/s eta 0:01:33\n",
      "   ------------------ --------------------- 5.2/11.5 MB 67.5 kB/s eta 0:01:33\n",
      "   ------------------ --------------------- 5.2/11.5 MB 67.5 kB/s eta 0:01:33\n",
      "   ------------------ --------------------- 5.2/11.5 MB 67.5 kB/s eta 0:01:33\n",
      "   ------------------ --------------------- 5.2/11.5 MB 67.5 kB/s eta 0:01:33\n",
      "   ------------------ --------------------- 5.2/11.5 MB 67.5 kB/s eta 0:01:33\n",
      "   ------------------ --------------------- 5.2/11.5 MB 67.5 kB/s eta 0:01:33\n",
      "   ------------------ --------------------- 5.2/11.5 MB 67.5 kB/s eta 0:01:33\n",
      "   ------------------ --------------------- 5.2/11.5 MB 67.5 kB/s eta 0:01:33\n",
      "   ------------------ --------------------- 5.2/11.5 MB 67.5 kB/s eta 0:01:33\n",
      "   ------------------ --------------------- 5.2/11.5 MB 67.5 kB/s eta 0:01:33\n",
      "   ------------------ --------------------- 5.2/11.5 MB 67.5 kB/s eta 0:01:33\n",
      "   ------------------ --------------------- 5.2/11.5 MB 67.5 kB/s eta 0:01:33\n",
      "   ------------------ --------------------- 5.2/11.5 MB 67.5 kB/s eta 0:01:33\n",
      "   ------------------ --------------------- 5.2/11.5 MB 67.5 kB/s eta 0:01:33\n",
      "   ------------------ --------------------- 5.2/11.5 MB 67.5 kB/s eta 0:01:33\n",
      "   ------------------ --------------------- 5.2/11.5 MB 67.5 kB/s eta 0:01:33\n",
      "   ------------------ --------------------- 5.2/11.5 MB 67.5 kB/s eta 0:01:33\n",
      "   ------------------ --------------------- 5.2/11.5 MB 67.5 kB/s eta 0:01:33\n",
      "   ------------------ --------------------- 5.2/11.5 MB 67.5 kB/s eta 0:01:33\n",
      "   ------------------ --------------------- 5.2/11.5 MB 67.5 kB/s eta 0:01:33\n",
      "   ------------------ --------------------- 5.2/11.5 MB 67.5 kB/s eta 0:01:33\n",
      "   ------------------ --------------------- 5.2/11.5 MB 67.5 kB/s eta 0:01:33\n",
      "   ------------------- -------------------- 5.5/11.5 MB 39.9 kB/s eta 0:02:31\n",
      "   ------------------- -------------------- 5.5/11.5 MB 39.9 kB/s eta 0:02:31\n",
      "   ------------------- -------------------- 5.5/11.5 MB 39.9 kB/s eta 0:02:31\n",
      "   ------------------- -------------------- 5.5/11.5 MB 39.9 kB/s eta 0:02:31\n",
      "   ------------------- -------------------- 5.5/11.5 MB 39.9 kB/s eta 0:02:31\n",
      "   ------------------- -------------------- 5.5/11.5 MB 39.9 kB/s eta 0:02:31\n",
      "   ------------------- -------------------- 5.5/11.5 MB 39.9 kB/s eta 0:02:31\n",
      "   ------------------- -------------------- 5.5/11.5 MB 39.9 kB/s eta 0:02:31\n",
      "   ------------------- -------------------- 5.5/11.5 MB 39.9 kB/s eta 0:02:31\n",
      "   ------------------- -------------------- 5.5/11.5 MB 39.9 kB/s eta 0:02:31\n",
      "   ------------------- -------------------- 5.5/11.5 MB 39.9 kB/s eta 0:02:31\n",
      "   ------------------- -------------------- 5.5/11.5 MB 39.9 kB/s eta 0:02:31\n",
      "   ------------------- -------------------- 5.5/11.5 MB 39.9 kB/s eta 0:02:31\n",
      "   ------------------- -------------------- 5.5/11.5 MB 39.9 kB/s eta 0:02:31\n",
      "   ------------------- -------------------- 5.5/11.5 MB 39.9 kB/s eta 0:02:31\n",
      "   ------------------- -------------------- 5.5/11.5 MB 39.9 kB/s eta 0:02:31\n",
      "   ------------------- -------------------- 5.5/11.5 MB 39.9 kB/s eta 0:02:31\n",
      "   ------------------- -------------------- 5.5/11.5 MB 39.9 kB/s eta 0:02:31\n",
      "   ------------------- -------------------- 5.5/11.5 MB 39.9 kB/s eta 0:02:31\n",
      "   ------------------- -------------------- 5.5/11.5 MB 39.9 kB/s eta 0:02:31\n",
      "   ------------------- -------------------- 5.5/11.5 MB 39.9 kB/s eta 0:02:31\n",
      "   ------------------- -------------------- 5.5/11.5 MB 39.9 kB/s eta 0:02:31\n",
      "   ------------------- -------------------- 5.5/11.5 MB 39.9 kB/s eta 0:02:31\n",
      "   ------------------- -------------------- 5.5/11.5 MB 39.9 kB/s eta 0:02:31\n",
      "   ------------------- -------------------- 5.5/11.5 MB 39.9 kB/s eta 0:02:31\n",
      "   ------------------- -------------------- 5.5/11.5 MB 39.9 kB/s eta 0:02:31\n",
      "   ------------------- -------------------- 5.5/11.5 MB 39.9 kB/s eta 0:02:31\n",
      "   ------------------- -------------------- 5.5/11.5 MB 39.9 kB/s eta 0:02:31\n",
      "   ------------------- -------------------- 5.5/11.5 MB 39.9 kB/s eta 0:02:31\n",
      "   ------------------- -------------------- 5.5/11.5 MB 39.9 kB/s eta 0:02:31\n",
      "   ------------------- -------------------- 5.5/11.5 MB 39.9 kB/s eta 0:02:31\n",
      "   ------------------- -------------------- 5.5/11.5 MB 39.9 kB/s eta 0:02:31\n",
      "   ------------------- -------------------- 5.5/11.5 MB 39.9 kB/s eta 0:02:31\n",
      "   ------------------- -------------------- 5.5/11.5 MB 39.9 kB/s eta 0:02:31\n",
      "   ------------------- -------------------- 5.5/11.5 MB 39.9 kB/s eta 0:02:31\n",
      "   ------------------- -------------------- 5.5/11.5 MB 39.9 kB/s eta 0:02:31\n",
      "   ------------------- -------------------- 5.5/11.5 MB 39.9 kB/s eta 0:02:31\n",
      "   ------------------- -------------------- 5.5/11.5 MB 39.9 kB/s eta 0:02:31\n",
      "   ------------------- -------------------- 5.5/11.5 MB 39.9 kB/s eta 0:02:31\n",
      "   ------------------- -------------------- 5.5/11.5 MB 39.9 kB/s eta 0:02:31\n",
      "   ------------------- -------------------- 5.5/11.5 MB 39.9 kB/s eta 0:02:31\n",
      "   ------------------- -------------------- 5.5/11.5 MB 39.9 kB/s eta 0:02:31\n",
      "   ------------------- -------------------- 5.5/11.5 MB 39.9 kB/s eta 0:02:31\n",
      "   ------------------- -------------------- 5.5/11.5 MB 39.9 kB/s eta 0:02:31\n",
      "   ------------------- -------------------- 5.5/11.5 MB 39.9 kB/s eta 0:02:31\n",
      "   ------------------- -------------------- 5.5/11.5 MB 39.9 kB/s eta 0:02:31\n",
      "   ------------------- -------------------- 5.5/11.5 MB 39.9 kB/s eta 0:02:31\n",
      "   ------------------- -------------------- 5.5/11.5 MB 39.9 kB/s eta 0:02:31\n",
      "   ------------------- -------------------- 5.5/11.5 MB 39.9 kB/s eta 0:02:31\n",
      "   ------------------- -------------------- 5.5/11.5 MB 39.9 kB/s eta 0:02:31\n",
      "   ------------------- -------------------- 5.5/11.5 MB 39.9 kB/s eta 0:02:31\n",
      "   ------------------- -------------------- 5.5/11.5 MB 39.9 kB/s eta 0:02:31\n",
      "   ------------------- -------------------- 5.5/11.5 MB 39.9 kB/s eta 0:02:31\n",
      "   ------------------- -------------------- 5.5/11.5 MB 39.9 kB/s eta 0:02:31\n",
      "   ------------------- -------------------- 5.5/11.5 MB 39.9 kB/s eta 0:02:31\n",
      "   ------------------- -------------------- 5.5/11.5 MB 39.9 kB/s eta 0:02:31\n",
      "   ------------------- -------------------- 5.5/11.5 MB 39.9 kB/s eta 0:02:31\n",
      "   -------------------- ------------------- 5.8/11.5 MB 20.0 kB/s eta 0:04:47\n",
      "   -------------------- ------------------- 5.8/11.5 MB 20.0 kB/s eta 0:04:47\n",
      "   -------------------- ------------------- 5.8/11.5 MB 20.0 kB/s eta 0:04:47\n",
      "   -------------------- ------------------- 5.8/11.5 MB 20.0 kB/s eta 0:04:47\n",
      "   -------------------- ------------------- 5.8/11.5 MB 20.0 kB/s eta 0:04:47\n",
      "   -------------------- ------------------- 5.8/11.5 MB 20.0 kB/s eta 0:04:47\n",
      "   -------------------- ------------------- 5.8/11.5 MB 20.0 kB/s eta 0:04:47\n",
      "   -------------------- ------------------- 5.8/11.5 MB 20.0 kB/s eta 0:04:47\n",
      "   -------------------- ------------------- 5.8/11.5 MB 20.0 kB/s eta 0:04:47\n",
      "   -------------------- ------------------- 5.8/11.5 MB 20.0 kB/s eta 0:04:47\n",
      "   -------------------- ------------------- 5.8/11.5 MB 20.0 kB/s eta 0:04:47\n",
      "   -------------------- ------------------- 5.8/11.5 MB 20.0 kB/s eta 0:04:47\n",
      "   -------------------- ------------------- 5.8/11.5 MB 20.0 kB/s eta 0:04:47\n",
      "   -------------------- ------------------- 5.8/11.5 MB 20.0 kB/s eta 0:04:47\n",
      "   -------------------- ------------------- 5.8/11.5 MB 20.0 kB/s eta 0:04:47\n",
      "   -------------------- ------------------- 5.8/11.5 MB 20.0 kB/s eta 0:04:47\n",
      "   -------------------- ------------------- 5.8/11.5 MB 20.0 kB/s eta 0:04:47\n",
      "   -------------------- ------------------- 5.8/11.5 MB 20.0 kB/s eta 0:04:47\n",
      "   -------------------- ------------------- 5.8/11.5 MB 20.0 kB/s eta 0:04:47\n",
      "   -------------------- ------------------- 5.8/11.5 MB 20.0 kB/s eta 0:04:47\n",
      "   -------------------- ------------------- 5.8/11.5 MB 20.0 kB/s eta 0:04:47\n",
      "   -------------------- ------------------- 5.8/11.5 MB 20.0 kB/s eta 0:04:47\n",
      "   -------------------- ------------------- 5.8/11.5 MB 20.0 kB/s eta 0:04:47\n",
      "   -------------------- ------------------- 5.8/11.5 MB 20.0 kB/s eta 0:04:47\n",
      "   -------------------- ------------------- 5.8/11.5 MB 20.0 kB/s eta 0:04:47\n",
      "   -------------------- ------------------- 5.8/11.5 MB 20.0 kB/s eta 0:04:47\n",
      "   -------------------- ------------------- 5.8/11.5 MB 20.0 kB/s eta 0:04:47\n",
      "   -------------------- ------------------- 5.8/11.5 MB 20.0 kB/s eta 0:04:47\n",
      "   -------------------- ------------------- 5.8/11.5 MB 20.0 kB/s eta 0:04:47\n",
      "   -------------------- ------------------- 5.8/11.5 MB 20.0 kB/s eta 0:04:47\n",
      "   -------------------- ------------------- 5.8/11.5 MB 20.0 kB/s eta 0:04:47\n",
      "   -------------------- ------------------- 5.8/11.5 MB 20.0 kB/s eta 0:04:47\n",
      "   -------------------- ------------------- 5.8/11.5 MB 20.0 kB/s eta 0:04:47\n",
      "   -------------------- ------------------- 5.8/11.5 MB 20.0 kB/s eta 0:04:47\n",
      "   -------------------- ------------------- 5.8/11.5 MB 20.0 kB/s eta 0:04:47\n",
      "   -------------------- ------------------- 5.8/11.5 MB 20.0 kB/s eta 0:04:47\n",
      "   -------------------- ------------------- 5.8/11.5 MB 20.0 kB/s eta 0:04:47\n",
      "   -------------------- ------------------- 5.8/11.5 MB 20.0 kB/s eta 0:04:47\n",
      "   -------------------- ------------------- 5.8/11.5 MB 20.0 kB/s eta 0:04:47\n",
      "   -------------------- ------------------- 5.8/11.5 MB 20.0 kB/s eta 0:04:47\n",
      "   -------------------- ------------------- 5.8/11.5 MB 20.0 kB/s eta 0:04:47\n",
      "   -------------------- ------------------- 5.8/11.5 MB 20.0 kB/s eta 0:04:47\n",
      "   -------------------- ------------------- 5.8/11.5 MB 20.0 kB/s eta 0:04:47\n",
      "   -------------------- ------------------- 5.8/11.5 MB 20.0 kB/s eta 0:04:47\n",
      "   -------------------- ------------------- 5.8/11.5 MB 20.0 kB/s eta 0:04:47\n",
      "   -------------------- ------------------- 5.8/11.5 MB 20.0 kB/s eta 0:04:47\n",
      "   -------------------- ------------------- 5.8/11.5 MB 20.0 kB/s eta 0:04:47\n",
      "   -------------------- ------------------- 5.8/11.5 MB 20.0 kB/s eta 0:04:47\n",
      "   -------------------- ------------------- 5.8/11.5 MB 20.0 kB/s eta 0:04:47\n",
      "   -------------------- ------------------- 5.8/11.5 MB 20.0 kB/s eta 0:04:47\n",
      "   -------------------- ------------------- 5.8/11.5 MB 20.0 kB/s eta 0:04:47\n",
      "   -------------------- ------------------- 5.8/11.5 MB 20.0 kB/s eta 0:04:47\n",
      "   -------------------- ------------------- 5.8/11.5 MB 20.0 kB/s eta 0:04:47\n",
      "   -------------------- ------------------- 5.8/11.5 MB 20.0 kB/s eta 0:04:47\n",
      "   -------------------- ------------------- 5.8/11.5 MB 20.0 kB/s eta 0:04:47\n",
      "   -------------------- ------------------- 5.8/11.5 MB 20.0 kB/s eta 0:04:47\n",
      "   -------------------- ------------------- 5.8/11.5 MB 20.0 kB/s eta 0:04:47\n",
      "   -------------------- ------------------- 5.8/11.5 MB 20.0 kB/s eta 0:04:47\n",
      "   -------------------- ------------------- 5.8/11.5 MB 20.0 kB/s eta 0:04:47\n",
      "   -------------------- ------------------- 5.8/11.5 MB 20.0 kB/s eta 0:04:47\n",
      "   -------------------- ------------------- 5.8/11.5 MB 20.0 kB/s eta 0:04:47\n",
      "   -------------------- ------------------- 5.8/11.5 MB 20.0 kB/s eta 0:04:47\n",
      "   -------------------- ------------------- 6.0/11.5 MB 18.9 kB/s eta 0:04:50\n",
      "   -------------------- ------------------- 6.0/11.5 MB 18.9 kB/s eta 0:04:50\n",
      "   -------------------- ------------------- 6.0/11.5 MB 18.9 kB/s eta 0:04:50\n",
      "   -------------------- ------------------- 6.0/11.5 MB 18.9 kB/s eta 0:04:50\n",
      "   -------------------- ------------------- 6.0/11.5 MB 18.9 kB/s eta 0:04:50\n",
      "   -------------------- ------------------- 6.0/11.5 MB 18.9 kB/s eta 0:04:50\n",
      "   -------------------- ------------------- 6.0/11.5 MB 18.9 kB/s eta 0:04:50\n",
      "   -------------------- ------------------- 6.0/11.5 MB 18.9 kB/s eta 0:04:50\n",
      "   -------------------- ------------------- 6.0/11.5 MB 18.9 kB/s eta 0:04:50\n",
      "   -------------------- ------------------- 6.0/11.5 MB 18.9 kB/s eta 0:04:50\n",
      "   -------------------- ------------------- 6.0/11.5 MB 18.9 kB/s eta 0:04:50\n",
      "   -------------------- ------------------- 6.0/11.5 MB 18.9 kB/s eta 0:04:50\n",
      "   -------------------- ------------------- 6.0/11.5 MB 18.9 kB/s eta 0:04:50\n",
      "   -------------------- ------------------- 6.0/11.5 MB 18.9 kB/s eta 0:04:50\n",
      "   -------------------- ------------------- 6.0/11.5 MB 18.9 kB/s eta 0:04:50\n",
      "   -------------------- ------------------- 6.0/11.5 MB 18.9 kB/s eta 0:04:50\n",
      "   -------------------- ------------------- 6.0/11.5 MB 18.9 kB/s eta 0:04:50\n",
      "   -------------------- ------------------- 6.0/11.5 MB 18.9 kB/s eta 0:04:50\n",
      "   -------------------- ------------------- 6.0/11.5 MB 18.9 kB/s eta 0:04:50\n",
      "   -------------------- ------------------- 6.0/11.5 MB 18.9 kB/s eta 0:04:50\n",
      "   -------------------- ------------------- 6.0/11.5 MB 18.9 kB/s eta 0:04:50\n",
      "   -------------------- ------------------- 6.0/11.5 MB 18.9 kB/s eta 0:04:50\n",
      "   -------------------- ------------------- 6.0/11.5 MB 18.9 kB/s eta 0:04:50\n",
      "   -------------------- ------------------- 6.0/11.5 MB 18.9 kB/s eta 0:04:50\n",
      "   -------------------- ------------------- 6.0/11.5 MB 18.9 kB/s eta 0:04:50\n",
      "   -------------------- ------------------- 6.0/11.5 MB 18.9 kB/s eta 0:04:50\n",
      "   -------------------- ------------------- 6.0/11.5 MB 18.9 kB/s eta 0:04:50\n",
      "   -------------------- ------------------- 6.0/11.5 MB 18.9 kB/s eta 0:04:50\n",
      "   -------------------- ------------------- 6.0/11.5 MB 18.9 kB/s eta 0:04:50\n",
      "   -------------------- ------------------- 6.0/11.5 MB 18.9 kB/s eta 0:04:50\n",
      "   -------------------- ------------------- 6.0/11.5 MB 18.9 kB/s eta 0:04:50\n",
      "   -------------------- ------------------- 6.0/11.5 MB 18.9 kB/s eta 0:04:50\n",
      "   -------------------- ------------------- 6.0/11.5 MB 18.9 kB/s eta 0:04:50\n",
      "   -------------------- ------------------- 6.0/11.5 MB 18.9 kB/s eta 0:04:50\n",
      "   -------------------- ------------------- 6.0/11.5 MB 18.9 kB/s eta 0:04:50\n",
      "   -------------------- ------------------- 6.0/11.5 MB 18.9 kB/s eta 0:04:50\n",
      "   -------------------- ------------------- 6.0/11.5 MB 18.9 kB/s eta 0:04:50\n",
      "   -------------------- ------------------- 6.0/11.5 MB 18.9 kB/s eta 0:04:50\n",
      "   -------------------- ------------------- 6.0/11.5 MB 18.9 kB/s eta 0:04:50\n",
      "   -------------------- ------------------- 6.0/11.5 MB 18.9 kB/s eta 0:04:50\n",
      "   -------------------- ------------------- 6.0/11.5 MB 18.9 kB/s eta 0:04:50\n",
      "   -------------------- ------------------- 6.0/11.5 MB 18.9 kB/s eta 0:04:50\n",
      "   -------------------- ------------------- 6.0/11.5 MB 18.9 kB/s eta 0:04:50\n",
      "   -------------------- ------------------- 6.0/11.5 MB 18.9 kB/s eta 0:04:50\n",
      "   -------------------- ------------------- 6.0/11.5 MB 18.9 kB/s eta 0:04:50\n",
      "   -------------------- ------------------- 6.0/11.5 MB 18.9 kB/s eta 0:04:50\n",
      "   -------------------- ------------------- 6.0/11.5 MB 18.9 kB/s eta 0:04:50\n",
      "   -------------------- ------------------- 6.0/11.5 MB 18.9 kB/s eta 0:04:50\n",
      "   -------------------- ------------------- 6.0/11.5 MB 18.9 kB/s eta 0:04:50\n",
      "   -------------------- ------------------- 6.0/11.5 MB 18.9 kB/s eta 0:04:50\n",
      "   -------------------- ------------------- 6.0/11.5 MB 18.9 kB/s eta 0:04:50\n",
      "   -------------------- ------------------- 6.0/11.5 MB 18.9 kB/s eta 0:04:50\n",
      "   -------------------- ------------------- 6.0/11.5 MB 18.9 kB/s eta 0:04:50\n",
      "   -------------------- ------------------- 6.0/11.5 MB 18.9 kB/s eta 0:04:50\n",
      "   -------------------- ------------------- 6.0/11.5 MB 18.9 kB/s eta 0:04:50\n",
      "   -------------------- ------------------- 6.0/11.5 MB 18.9 kB/s eta 0:04:50\n",
      "   -------------------- ------------------- 6.0/11.5 MB 18.9 kB/s eta 0:04:50\n",
      "   --------------------- ------------------ 6.3/11.5 MB 19.7 kB/s eta 0:04:25\n",
      "   --------------------- ------------------ 6.3/11.5 MB 19.7 kB/s eta 0:04:25\n",
      "   --------------------- ------------------ 6.3/11.5 MB 19.7 kB/s eta 0:04:25\n",
      "   --------------------- ------------------ 6.3/11.5 MB 19.7 kB/s eta 0:04:25\n",
      "   --------------------- ------------------ 6.3/11.5 MB 19.7 kB/s eta 0:04:25\n",
      "   --------------------- ------------------ 6.3/11.5 MB 19.7 kB/s eta 0:04:25\n",
      "   --------------------- ------------------ 6.3/11.5 MB 19.7 kB/s eta 0:04:25\n",
      "   --------------------- ------------------ 6.3/11.5 MB 19.7 kB/s eta 0:04:25\n",
      "   --------------------- ------------------ 6.3/11.5 MB 19.7 kB/s eta 0:04:25\n",
      "   --------------------- ------------------ 6.3/11.5 MB 19.7 kB/s eta 0:04:25\n",
      "   --------------------- ------------------ 6.3/11.5 MB 19.7 kB/s eta 0:04:25\n",
      "   --------------------- ------------------ 6.3/11.5 MB 19.7 kB/s eta 0:04:25\n",
      "   --------------------- ------------------ 6.3/11.5 MB 19.7 kB/s eta 0:04:25\n",
      "   --------------------- ------------------ 6.3/11.5 MB 19.7 kB/s eta 0:04:25\n",
      "   --------------------- ------------------ 6.3/11.5 MB 19.7 kB/s eta 0:04:25\n",
      "   --------------------- ------------------ 6.3/11.5 MB 19.7 kB/s eta 0:04:25\n",
      "   --------------------- ------------------ 6.3/11.5 MB 19.7 kB/s eta 0:04:25\n",
      "   --------------------- ------------------ 6.3/11.5 MB 19.7 kB/s eta 0:04:25\n",
      "   --------------------- ------------------ 6.3/11.5 MB 19.7 kB/s eta 0:04:25\n",
      "   ---------------------- ----------------- 6.6/11.5 MB 31.7 kB/s eta 0:02:37\n",
      "   ---------------------- ----------------- 6.6/11.5 MB 31.7 kB/s eta 0:02:37\n",
      "   ---------------------- ----------------- 6.6/11.5 MB 31.7 kB/s eta 0:02:37\n",
      "   ---------------------- ----------------- 6.6/11.5 MB 31.7 kB/s eta 0:02:37\n",
      "   ---------------------- ----------------- 6.6/11.5 MB 31.7 kB/s eta 0:02:37\n",
      "   ---------------------- ----------------- 6.6/11.5 MB 31.7 kB/s eta 0:02:37\n",
      "   ---------------------- ----------------- 6.6/11.5 MB 31.7 kB/s eta 0:02:37\n",
      "   ---------------------- ----------------- 6.6/11.5 MB 31.7 kB/s eta 0:02:37\n",
      "   ---------------------- ----------------- 6.6/11.5 MB 31.7 kB/s eta 0:02:37\n",
      "   ---------------------- ----------------- 6.6/11.5 MB 31.7 kB/s eta 0:02:37\n",
      "   ---------------------- ----------------- 6.6/11.5 MB 31.7 kB/s eta 0:02:37\n",
      "   ---------------------- ----------------- 6.6/11.5 MB 31.7 kB/s eta 0:02:37\n",
      "   ---------------------- ----------------- 6.6/11.5 MB 31.7 kB/s eta 0:02:37\n",
      "   ---------------------- ----------------- 6.6/11.5 MB 31.7 kB/s eta 0:02:37\n",
      "   ---------------------- ----------------- 6.6/11.5 MB 31.7 kB/s eta 0:02:37\n",
      "   ---------------------- ----------------- 6.6/11.5 MB 31.7 kB/s eta 0:02:37\n",
      "   ---------------------- ----------------- 6.6/11.5 MB 31.7 kB/s eta 0:02:37\n",
      "   ---------------------- ----------------- 6.6/11.5 MB 31.7 kB/s eta 0:02:37\n",
      "   ---------------------- ----------------- 6.6/11.5 MB 31.7 kB/s eta 0:02:37\n",
      "   ---------------------- ----------------- 6.6/11.5 MB 31.7 kB/s eta 0:02:37\n",
      "   ---------------------- ----------------- 6.6/11.5 MB 31.7 kB/s eta 0:02:37\n",
      "   ---------------------- ----------------- 6.6/11.5 MB 31.7 kB/s eta 0:02:37\n",
      "   ---------------------- ----------------- 6.6/11.5 MB 31.7 kB/s eta 0:02:37\n",
      "   ---------------------- ----------------- 6.6/11.5 MB 31.7 kB/s eta 0:02:37\n",
      "   ---------------------- ----------------- 6.6/11.5 MB 31.7 kB/s eta 0:02:37\n",
      "   ---------------------- ----------------- 6.6/11.5 MB 31.7 kB/s eta 0:02:37\n",
      "   ---------------------- ----------------- 6.6/11.5 MB 31.7 kB/s eta 0:02:37\n",
      "   ---------------------- ----------------- 6.6/11.5 MB 31.7 kB/s eta 0:02:37\n",
      "   ---------------------- ----------------- 6.6/11.5 MB 31.7 kB/s eta 0:02:37\n",
      "   ---------------------- ----------------- 6.6/11.5 MB 31.7 kB/s eta 0:02:37\n",
      "   ---------------------- ----------------- 6.6/11.5 MB 31.7 kB/s eta 0:02:37\n",
      "   ---------------------- ----------------- 6.6/11.5 MB 31.7 kB/s eta 0:02:37\n",
      "   ---------------------- ----------------- 6.6/11.5 MB 31.7 kB/s eta 0:02:37\n",
      "   ---------------------- ----------------- 6.6/11.5 MB 31.7 kB/s eta 0:02:37\n",
      "   ----------------------- ---------------- 6.8/11.5 MB 33.1 kB/s eta 0:02:22\n",
      "   ----------------------- ---------------- 6.8/11.5 MB 33.1 kB/s eta 0:02:22\n",
      "   ----------------------- ---------------- 6.8/11.5 MB 33.1 kB/s eta 0:02:22\n",
      "   ----------------------- ---------------- 6.8/11.5 MB 33.1 kB/s eta 0:02:22\n",
      "   ----------------------- ---------------- 6.8/11.5 MB 33.1 kB/s eta 0:02:22\n",
      "   ----------------------- ---------------- 6.8/11.5 MB 33.1 kB/s eta 0:02:22\n",
      "   ----------------------- ---------------- 6.8/11.5 MB 33.1 kB/s eta 0:02:22\n",
      "   ----------------------- ---------------- 6.8/11.5 MB 33.1 kB/s eta 0:02:22\n",
      "   ----------------------- ---------------- 6.8/11.5 MB 33.1 kB/s eta 0:02:22\n",
      "   ----------------------- ---------------- 6.8/11.5 MB 33.1 kB/s eta 0:02:22\n",
      "   ----------------------- ---------------- 6.8/11.5 MB 33.1 kB/s eta 0:02:22\n",
      "   ----------------------- ---------------- 6.8/11.5 MB 33.1 kB/s eta 0:02:22\n",
      "   ----------------------- ---------------- 6.8/11.5 MB 33.1 kB/s eta 0:02:22\n",
      "   ----------------------- ---------------- 6.8/11.5 MB 33.1 kB/s eta 0:02:22\n",
      "   ----------------------- ---------------- 6.8/11.5 MB 33.1 kB/s eta 0:02:22\n",
      "   ----------------------- ---------------- 6.8/11.5 MB 33.1 kB/s eta 0:02:22\n",
      "   ----------------------- ---------------- 6.8/11.5 MB 33.1 kB/s eta 0:02:22\n",
      "   ----------------------- ---------------- 6.8/11.5 MB 33.1 kB/s eta 0:02:22\n",
      "   ----------------------- ---------------- 6.8/11.5 MB 33.1 kB/s eta 0:02:22\n",
      "   ----------------------- ---------------- 6.8/11.5 MB 33.1 kB/s eta 0:02:22\n",
      "   ----------------------- ---------------- 6.8/11.5 MB 33.1 kB/s eta 0:02:22\n",
      "   ----------------------- ---------------- 6.8/11.5 MB 33.1 kB/s eta 0:02:22\n",
      "   ----------------------- ---------------- 6.8/11.5 MB 33.1 kB/s eta 0:02:22\n",
      "   ----------------------- ---------------- 6.8/11.5 MB 33.1 kB/s eta 0:02:22\n",
      "   ----------------------- ---------------- 6.8/11.5 MB 33.1 kB/s eta 0:02:22\n",
      "   ----------------------- ---------------- 6.8/11.5 MB 33.1 kB/s eta 0:02:22\n",
      "   ----------------------- ---------------- 6.8/11.5 MB 33.1 kB/s eta 0:02:22\n",
      "   ----------------------- ---------------- 6.8/11.5 MB 33.1 kB/s eta 0:02:22\n",
      "   ----------------------- ---------------- 6.8/11.5 MB 33.1 kB/s eta 0:02:22\n",
      "   ----------------------- ---------------- 6.8/11.5 MB 33.1 kB/s eta 0:02:22\n",
      "   ----------------------- ---------------- 6.8/11.5 MB 33.1 kB/s eta 0:02:22\n",
      "   ----------------------- ---------------- 6.8/11.5 MB 33.1 kB/s eta 0:02:22\n",
      "   ----------------------- ---------------- 6.8/11.5 MB 33.1 kB/s eta 0:02:22\n",
      "   ----------------------- ---------------- 6.8/11.5 MB 33.1 kB/s eta 0:02:22\n",
      "   ----------------------- ---------------- 6.8/11.5 MB 33.1 kB/s eta 0:02:22\n",
      "   ----------------------- ---------------- 6.8/11.5 MB 33.1 kB/s eta 0:02:22\n",
      "   ----------------------- ---------------- 6.8/11.5 MB 33.1 kB/s eta 0:02:22\n",
      "   ----------------------- ---------------- 6.8/11.5 MB 33.1 kB/s eta 0:02:22\n",
      "   ----------------------- ---------------- 6.8/11.5 MB 33.1 kB/s eta 0:02:22\n",
      "   ----------------------- ---------------- 6.8/11.5 MB 33.1 kB/s eta 0:02:22\n",
      "   ----------------------- ---------------- 6.8/11.5 MB 33.1 kB/s eta 0:02:22\n",
      "   ----------------------- ---------------- 6.8/11.5 MB 33.1 kB/s eta 0:02:22\n",
      "   ----------------------- ---------------- 6.8/11.5 MB 33.1 kB/s eta 0:02:22\n",
      "   ----------------------- ---------------- 6.8/11.5 MB 33.1 kB/s eta 0:02:22\n",
      "   ----------------------- ---------------- 6.8/11.5 MB 33.1 kB/s eta 0:02:22\n",
      "   ----------------------- ---------------- 6.8/11.5 MB 33.1 kB/s eta 0:02:22\n",
      "   ----------------------- ---------------- 6.8/11.5 MB 33.1 kB/s eta 0:02:22\n",
      "   ----------------------- ---------------- 6.8/11.5 MB 33.1 kB/s eta 0:02:22\n",
      "   ----------------------- ---------------- 6.8/11.5 MB 33.1 kB/s eta 0:02:22\n",
      "   ----------------------- ---------------- 6.8/11.5 MB 33.1 kB/s eta 0:02:22\n",
      "   ------------------------ --------------- 7.1/11.5 MB 35.3 kB/s eta 0:02:06\n",
      "   ------------------------ --------------- 7.1/11.5 MB 35.3 kB/s eta 0:02:06\n",
      "   ------------------------ --------------- 7.1/11.5 MB 35.3 kB/s eta 0:02:06\n",
      "   ------------------------ --------------- 7.1/11.5 MB 35.3 kB/s eta 0:02:06\n",
      "   ------------------------ --------------- 7.1/11.5 MB 35.3 kB/s eta 0:02:06\n",
      "   ------------------------ --------------- 7.1/11.5 MB 35.3 kB/s eta 0:02:06\n",
      "   ------------------------ --------------- 7.1/11.5 MB 35.3 kB/s eta 0:02:06\n",
      "   ------------------------ --------------- 7.1/11.5 MB 35.3 kB/s eta 0:02:06\n",
      "   ------------------------ --------------- 7.1/11.5 MB 35.3 kB/s eta 0:02:06\n",
      "   ------------------------ --------------- 7.1/11.5 MB 35.3 kB/s eta 0:02:06\n",
      "   ------------------------ --------------- 7.1/11.5 MB 35.3 kB/s eta 0:02:06\n",
      "   ------------------------ --------------- 7.1/11.5 MB 35.3 kB/s eta 0:02:06\n",
      "   ------------------------ --------------- 7.1/11.5 MB 35.3 kB/s eta 0:02:06\n",
      "   ------------------------ --------------- 7.1/11.5 MB 35.3 kB/s eta 0:02:06\n",
      "   ------------------------- -------------- 7.3/11.5 MB 41.6 kB/s eta 0:01:41\n",
      "   ------------------------- -------------- 7.3/11.5 MB 41.6 kB/s eta 0:01:41\n",
      "   ------------------------- -------------- 7.3/11.5 MB 41.6 kB/s eta 0:01:41\n",
      "   ------------------------- -------------- 7.3/11.5 MB 41.6 kB/s eta 0:01:41\n",
      "   ------------------------- -------------- 7.3/11.5 MB 41.6 kB/s eta 0:01:41\n",
      "   ------------------------- -------------- 7.3/11.5 MB 41.6 kB/s eta 0:01:41\n",
      "   ------------------------- -------------- 7.3/11.5 MB 41.6 kB/s eta 0:01:41\n",
      "   ------------------------- -------------- 7.3/11.5 MB 41.6 kB/s eta 0:01:41\n",
      "   ------------------------- -------------- 7.3/11.5 MB 41.6 kB/s eta 0:01:41\n",
      "   ------------------------- -------------- 7.3/11.5 MB 41.6 kB/s eta 0:01:41\n",
      "   ------------------------- -------------- 7.3/11.5 MB 41.6 kB/s eta 0:01:41\n",
      "   ------------------------- -------------- 7.3/11.5 MB 41.6 kB/s eta 0:01:41\n",
      "   ------------------------- -------------- 7.3/11.5 MB 41.6 kB/s eta 0:01:41\n",
      "   -------------------------- ------------- 7.6/11.5 MB 46.7 kB/s eta 0:01:24\n",
      "   -------------------------- ------------- 7.6/11.5 MB 46.7 kB/s eta 0:01:24\n",
      "   -------------------------- ------------- 7.6/11.5 MB 46.7 kB/s eta 0:01:24\n",
      "   -------------------------- ------------- 7.6/11.5 MB 46.7 kB/s eta 0:01:24\n",
      "   -------------------------- ------------- 7.6/11.5 MB 46.7 kB/s eta 0:01:24\n",
      "   -------------------------- ------------- 7.6/11.5 MB 46.7 kB/s eta 0:01:24\n",
      "   -------------------------- ------------- 7.6/11.5 MB 46.7 kB/s eta 0:01:24\n",
      "   -------------------------- ------------- 7.6/11.5 MB 46.7 kB/s eta 0:01:24\n",
      "   -------------------------- ------------- 7.6/11.5 MB 46.7 kB/s eta 0:01:24\n",
      "   -------------------------- ------------- 7.6/11.5 MB 46.7 kB/s eta 0:01:24\n",
      "   -------------------------- ------------- 7.6/11.5 MB 46.7 kB/s eta 0:01:24\n",
      "   --------------------------- ------------ 7.9/11.5 MB 49.8 kB/s eta 0:01:14\n",
      "   --------------------------- ------------ 7.9/11.5 MB 49.8 kB/s eta 0:01:14\n",
      "   --------------------------- ------------ 7.9/11.5 MB 49.8 kB/s eta 0:01:14\n",
      "   --------------------------- ------------ 7.9/11.5 MB 49.8 kB/s eta 0:01:14\n",
      "   --------------------------- ------------ 7.9/11.5 MB 49.8 kB/s eta 0:01:14\n",
      "   --------------------------- ------------ 7.9/11.5 MB 49.8 kB/s eta 0:01:14\n",
      "   --------------------------- ------------ 7.9/11.5 MB 49.8 kB/s eta 0:01:14\n",
      "   --------------------------- ------------ 7.9/11.5 MB 49.8 kB/s eta 0:01:14\n",
      "   --------------------------- ------------ 7.9/11.5 MB 49.8 kB/s eta 0:01:14\n",
      "   --------------------------- ------------ 7.9/11.5 MB 49.8 kB/s eta 0:01:14\n",
      "   ---------------------------- ----------- 8.1/11.5 MB 55.3 kB/s eta 0:01:02\n",
      "   ---------------------------- ----------- 8.1/11.5 MB 55.3 kB/s eta 0:01:02\n",
      "   ---------------------------- ----------- 8.1/11.5 MB 55.3 kB/s eta 0:01:02\n",
      "   ---------------------------- ----------- 8.1/11.5 MB 55.3 kB/s eta 0:01:02\n",
      "   ---------------------------- ----------- 8.1/11.5 MB 55.3 kB/s eta 0:01:02\n",
      "   ---------------------------- ----------- 8.1/11.5 MB 55.3 kB/s eta 0:01:02\n",
      "   ---------------------------- ----------- 8.1/11.5 MB 55.3 kB/s eta 0:01:02\n",
      "   ---------------------------- ----------- 8.1/11.5 MB 55.3 kB/s eta 0:01:02\n",
      "   ---------------------------- ----------- 8.1/11.5 MB 55.3 kB/s eta 0:01:02\n",
      "   ---------------------------- ----------- 8.1/11.5 MB 55.3 kB/s eta 0:01:02\n",
      "   ---------------------------- ----------- 8.1/11.5 MB 55.3 kB/s eta 0:01:02\n",
      "   ---------------------------- ----------- 8.1/11.5 MB 55.3 kB/s eta 0:01:02\n",
      "   ---------------------------- ----------- 8.1/11.5 MB 55.3 kB/s eta 0:01:02\n",
      "   ---------------------------- ----------- 8.1/11.5 MB 55.3 kB/s eta 0:01:02\n",
      "   ----------------------------- ---------- 8.4/11.5 MB 64.6 kB/s eta 0:00:49\n",
      "   ----------------------------- ---------- 8.4/11.5 MB 64.6 kB/s eta 0:00:49\n",
      "   ----------------------------- ---------- 8.4/11.5 MB 64.6 kB/s eta 0:00:49\n",
      "   ----------------------------- ---------- 8.4/11.5 MB 64.6 kB/s eta 0:00:49\n",
      "   ----------------------------- ---------- 8.4/11.5 MB 64.6 kB/s eta 0:00:49\n",
      "   ----------------------------- ---------- 8.4/11.5 MB 64.6 kB/s eta 0:00:49\n",
      "   ----------------------------- ---------- 8.4/11.5 MB 64.6 kB/s eta 0:00:49\n",
      "   ----------------------------- ---------- 8.4/11.5 MB 64.6 kB/s eta 0:00:49\n",
      "   ----------------------------- ---------- 8.4/11.5 MB 64.6 kB/s eta 0:00:49\n",
      "   ------------------------------ --------- 8.7/11.5 MB 69.7 kB/s eta 0:00:41\n",
      "   ------------------------------ --------- 8.7/11.5 MB 69.7 kB/s eta 0:00:41\n",
      "   ------------------------------ --------- 8.7/11.5 MB 69.7 kB/s eta 0:00:41\n",
      "   ------------------------------ --------- 8.7/11.5 MB 69.7 kB/s eta 0:00:41\n",
      "   ------------------------------ --------- 8.7/11.5 MB 69.7 kB/s eta 0:00:41\n",
      "   ------------------------------ --------- 8.7/11.5 MB 69.7 kB/s eta 0:00:41\n",
      "   ------------------------------ --------- 8.7/11.5 MB 69.7 kB/s eta 0:00:41\n",
      "   ------------------------------ --------- 8.7/11.5 MB 69.7 kB/s eta 0:00:41\n",
      "   ------------------------------ --------- 8.7/11.5 MB 69.7 kB/s eta 0:00:41\n",
      "   ------------------------------ --------- 8.7/11.5 MB 69.7 kB/s eta 0:00:41\n",
      "   ------------------------------ --------- 8.7/11.5 MB 69.7 kB/s eta 0:00:41\n",
      "   ------------------------------ --------- 8.7/11.5 MB 69.7 kB/s eta 0:00:41\n",
      "   ------------------------------ --------- 8.9/11.5 MB 72.8 kB/s eta 0:00:36\n",
      "   ------------------------------ --------- 8.9/11.5 MB 72.8 kB/s eta 0:00:36\n",
      "   ------------------------------ --------- 8.9/11.5 MB 72.8 kB/s eta 0:00:36\n",
      "   ------------------------------ --------- 8.9/11.5 MB 72.8 kB/s eta 0:00:36\n",
      "   ------------------------------ --------- 8.9/11.5 MB 72.8 kB/s eta 0:00:36\n",
      "   ------------------------------ --------- 8.9/11.5 MB 72.8 kB/s eta 0:00:36\n",
      "   ------------------------------ --------- 8.9/11.5 MB 72.8 kB/s eta 0:00:36\n",
      "   ------------------------------ --------- 8.9/11.5 MB 72.8 kB/s eta 0:00:36\n",
      "   ------------------------------- -------- 9.2/11.5 MB 107.6 kB/s eta 0:00:22\n",
      "   ------------------------------- -------- 9.2/11.5 MB 107.6 kB/s eta 0:00:22\n",
      "   ------------------------------- -------- 9.2/11.5 MB 107.6 kB/s eta 0:00:22\n",
      "   ------------------------------- -------- 9.2/11.5 MB 107.6 kB/s eta 0:00:22\n",
      "   ------------------------------- -------- 9.2/11.5 MB 107.6 kB/s eta 0:00:22\n",
      "   ------------------------------- -------- 9.2/11.5 MB 107.6 kB/s eta 0:00:22\n",
      "   ------------------------------- -------- 9.2/11.5 MB 107.6 kB/s eta 0:00:22\n",
      "   ------------------------------- -------- 9.2/11.5 MB 107.6 kB/s eta 0:00:22\n",
      "   ------------------------------- -------- 9.2/11.5 MB 107.6 kB/s eta 0:00:22\n",
      "   -------------------------------- ------- 9.4/11.5 MB 109.9 kB/s eta 0:00:19\n",
      "   -------------------------------- ------- 9.4/11.5 MB 109.9 kB/s eta 0:00:19\n",
      "   -------------------------------- ------- 9.4/11.5 MB 109.9 kB/s eta 0:00:19\n",
      "   -------------------------------- ------- 9.4/11.5 MB 109.9 kB/s eta 0:00:19\n",
      "   -------------------------------- ------- 9.4/11.5 MB 109.9 kB/s eta 0:00:19\n",
      "   -------------------------------- ------- 9.4/11.5 MB 109.9 kB/s eta 0:00:19\n",
      "   -------------------------------- ------- 9.4/11.5 MB 109.9 kB/s eta 0:00:19\n",
      "   -------------------------------- ------- 9.4/11.5 MB 109.9 kB/s eta 0:00:19\n",
      "   -------------------------------- ------- 9.4/11.5 MB 109.9 kB/s eta 0:00:19\n",
      "   -------------------------------- ------- 9.4/11.5 MB 109.9 kB/s eta 0:00:19\n",
      "   -------------------------------- ------- 9.4/11.5 MB 109.9 kB/s eta 0:00:19\n",
      "   --------------------------------- ------ 9.7/11.5 MB 108.6 kB/s eta 0:00:17\n",
      "   --------------------------------- ------ 9.7/11.5 MB 108.6 kB/s eta 0:00:17\n",
      "   --------------------------------- ------ 9.7/11.5 MB 108.6 kB/s eta 0:00:17\n",
      "   --------------------------------- ------ 9.7/11.5 MB 108.6 kB/s eta 0:00:17\n",
      "   --------------------------------- ------ 9.7/11.5 MB 108.6 kB/s eta 0:00:17\n",
      "   --------------------------------- ------ 9.7/11.5 MB 108.6 kB/s eta 0:00:17\n",
      "   --------------------------------- ------ 9.7/11.5 MB 108.6 kB/s eta 0:00:17\n",
      "   --------------------------------- ------ 9.7/11.5 MB 108.6 kB/s eta 0:00:17\n",
      "   --------------------------------- ------ 9.7/11.5 MB 108.6 kB/s eta 0:00:17\n",
      "   --------------------------------- ------ 9.7/11.5 MB 108.6 kB/s eta 0:00:17\n",
      "   --------------------------------- ------ 9.7/11.5 MB 108.6 kB/s eta 0:00:17\n",
      "   --------------------------------- ------ 9.7/11.5 MB 108.6 kB/s eta 0:00:17\n",
      "   --------------------------------- ------ 9.7/11.5 MB 108.6 kB/s eta 0:00:17\n",
      "   --------------------------------- ------ 9.7/11.5 MB 108.6 kB/s eta 0:00:17\n",
      "   ---------------------------------- ----- 10.0/11.5 MB 104.8 kB/s eta 0:00:15\n",
      "   ---------------------------------- ----- 10.0/11.5 MB 104.8 kB/s eta 0:00:15\n",
      "   ---------------------------------- ----- 10.0/11.5 MB 104.8 kB/s eta 0:00:15\n",
      "   ----------------------------------- ---- 10.2/11.5 MB 101.5 kB/s eta 0:00:13\n",
      "   ----------------------------------- ---- 10.2/11.5 MB 101.5 kB/s eta 0:00:13\n",
      "   ----------------------------------- ---- 10.2/11.5 MB 101.5 kB/s eta 0:00:13\n",
      "   ----------------------------------- ---- 10.2/11.5 MB 101.5 kB/s eta 0:00:13\n",
      "   ----------------------------------- ---- 10.2/11.5 MB 101.5 kB/s eta 0:00:13\n",
      "   ------------------------------------ --- 10.5/11.5 MB 104.1 kB/s eta 0:00:10\n",
      "   ------------------------------------ --- 10.5/11.5 MB 104.1 kB/s eta 0:00:10\n",
      "   ------------------------------------ --- 10.5/11.5 MB 104.1 kB/s eta 0:00:10\n",
      "   ------------------------------------ --- 10.5/11.5 MB 104.1 kB/s eta 0:00:10\n",
      "   ------------------------------------ --- 10.5/11.5 MB 104.1 kB/s eta 0:00:10\n",
      "   ------------------------------------ --- 10.5/11.5 MB 104.1 kB/s eta 0:00:10\n",
      "   ------------------------------------ --- 10.5/11.5 MB 104.1 kB/s eta 0:00:10\n",
      "   ------------------------------------- -- 10.7/11.5 MB 107.2 kB/s eta 0:00:08\n",
      "   ------------------------------------- -- 10.7/11.5 MB 107.2 kB/s eta 0:00:08\n",
      "   ------------------------------------- -- 10.7/11.5 MB 107.2 kB/s eta 0:00:08\n",
      "   ------------------------------------- -- 10.7/11.5 MB 107.2 kB/s eta 0:00:08\n",
      "   ------------------------------------- -- 10.7/11.5 MB 107.2 kB/s eta 0:00:08\n",
      "   ------------------------------------- -- 10.7/11.5 MB 107.2 kB/s eta 0:00:08\n",
      "   ------------------------------------- -- 10.7/11.5 MB 107.2 kB/s eta 0:00:08\n",
      "   ------------------------------------- -- 10.7/11.5 MB 107.2 kB/s eta 0:00:08\n",
      "   ------------------------------------- -- 10.7/11.5 MB 107.2 kB/s eta 0:00:08\n",
      "   ------------------------------------- -- 10.7/11.5 MB 107.2 kB/s eta 0:00:08\n",
      "   ------------------------------------- -- 10.7/11.5 MB 107.2 kB/s eta 0:00:08\n",
      "   -------------------------------------- - 11.0/11.5 MB 107.5 kB/s eta 0:00:05\n",
      "   -------------------------------------- - 11.0/11.5 MB 107.5 kB/s eta 0:00:05\n",
      "   -------------------------------------- - 11.0/11.5 MB 107.5 kB/s eta 0:00:05\n",
      "   -------------------------------------- - 11.0/11.5 MB 107.5 kB/s eta 0:00:05\n",
      "   -------------------------------------- - 11.0/11.5 MB 107.5 kB/s eta 0:00:05\n",
      "   -------------------------------------- - 11.0/11.5 MB 107.5 kB/s eta 0:00:05\n",
      "   -------------------------------------- - 11.0/11.5 MB 107.5 kB/s eta 0:00:05\n",
      "   -------------------------------------- - 11.0/11.5 MB 107.5 kB/s eta 0:00:05\n",
      "   -------------------------------------- - 11.0/11.5 MB 107.5 kB/s eta 0:00:05\n",
      "   ---------------------------------------  11.3/11.5 MB 108.6 kB/s eta 0:00:03\n",
      "   ---------------------------------------  11.3/11.5 MB 108.6 kB/s eta 0:00:03\n",
      "   ---------------------------------------  11.3/11.5 MB 108.6 kB/s eta 0:00:03\n",
      "   ---------------------------------------  11.3/11.5 MB 108.6 kB/s eta 0:00:03\n",
      "   ---------------------------------------  11.3/11.5 MB 108.6 kB/s eta 0:00:03\n",
      "   ---------------------------------------  11.3/11.5 MB 108.6 kB/s eta 0:00:03\n",
      "   ---------------------------------------  11.3/11.5 MB 108.6 kB/s eta 0:00:03\n",
      "   ---------------------------------------  11.3/11.5 MB 108.6 kB/s eta 0:00:03\n",
      "   ---------------------------------------  11.3/11.5 MB 108.6 kB/s eta 0:00:03\n",
      "   ---------------------------------------- 11.5/11.5 MB 112.0 kB/s eta 0:00:00\n",
      "Using cached numpy-2.2.0-cp312-cp312-win_amd64.whl (12.6 MB)\n",
      "Downloading pytz-2024.2-py2.py3-none-any.whl (508 kB)\n",
      "Downloading tzdata-2024.2-py2.py3-none-any.whl (346 kB)\n",
      "Installing collected packages: pytz, tzdata, numpy, pandas\n",
      "Successfully installed numpy-2.2.0 pandas-2.2.3 pytz-2024.2 tzdata-2024.2\n"
     ]
    },
    {
     "name": "stderr",
     "output_type": "stream",
     "text": [
      "\n",
      "[notice] A new release of pip is available: 24.2 -> 24.3.1\n",
      "[notice] To update, run: python.exe -m pip install --upgrade pip\n"
     ]
    }
   ],
   "source": [
    "!pip install pandas"
   ]
  },
  {
   "cell_type": "code",
   "execution_count": 2,
   "metadata": {},
   "outputs": [
    {
     "data": {
      "text/html": [
       "<div>\n",
       "<style scoped>\n",
       "    .dataframe tbody tr th:only-of-type {\n",
       "        vertical-align: middle;\n",
       "    }\n",
       "\n",
       "    .dataframe tbody tr th {\n",
       "        vertical-align: top;\n",
       "    }\n",
       "\n",
       "    .dataframe thead th {\n",
       "        text-align: right;\n",
       "    }\n",
       "</style>\n",
       "<table border=\"1\" class=\"dataframe\">\n",
       "  <thead>\n",
       "    <tr style=\"text-align: right;\">\n",
       "      <th></th>\n",
       "      <th>Jenis</th>\n",
       "      <th>Berat (kg)</th>\n",
       "      <th>Daur Ulang</th>\n",
       "    </tr>\n",
       "  </thead>\n",
       "  <tbody>\n",
       "    <tr>\n",
       "      <th>0</th>\n",
       "      <td>Plastik</td>\n",
       "      <td>5</td>\n",
       "      <td>True</td>\n",
       "    </tr>\n",
       "    <tr>\n",
       "      <th>1</th>\n",
       "      <td>kertas</td>\n",
       "      <td>2</td>\n",
       "      <td>True</td>\n",
       "    </tr>\n",
       "    <tr>\n",
       "      <th>2</th>\n",
       "      <td>Logam</td>\n",
       "      <td>3</td>\n",
       "      <td>True</td>\n",
       "    </tr>\n",
       "    <tr>\n",
       "      <th>3</th>\n",
       "      <td>Kaca</td>\n",
       "      <td>4</td>\n",
       "      <td>False</td>\n",
       "    </tr>\n",
       "  </tbody>\n",
       "</table>\n",
       "</div>"
      ],
      "text/plain": [
       "     Jenis  Berat (kg)  Daur Ulang\n",
       "0  Plastik           5        True\n",
       "1   kertas           2        True\n",
       "2    Logam           3        True\n",
       "3     Kaca           4       False"
      ]
     },
     "execution_count": 2,
     "metadata": {},
     "output_type": "execute_result"
    }
   ],
   "source": [
    "import pandas as pd\n",
    "\n",
    "#DATAFRAME\n",
    "data_list = [\n",
    "    ['Plastik', 5, True],\n",
    "    ['kertas', 2, True],\n",
    "    ['Logam', 3, True],\n",
    "    ['Kaca', 4, False]\n",
    "]\n",
    "\n",
    "df_list = pd.DataFrame(data_list,columns=['Jenis', 'Berat (kg)', 'Daur Ulang'])\n",
    "df_list"
   ]
  },
  {
   "cell_type": "code",
   "execution_count": 3,
   "metadata": {},
   "outputs": [
    {
     "name": "stdout",
     "output_type": "stream",
     "text": [
      "Collecting openpyxl\n"
     ]
    },
    {
     "name": "stderr",
     "output_type": "stream",
     "text": [
      "\n",
      "[notice] A new release of pip is available: 24.2 -> 24.3.1\n",
      "[notice] To update, run: python.exe -m pip install --upgrade pip\n"
     ]
    },
    {
     "name": "stdout",
     "output_type": "stream",
     "text": [
      "  Downloading openpyxl-3.1.5-py2.py3-none-any.whl.metadata (2.5 kB)\n",
      "Collecting et-xmlfile (from openpyxl)\n",
      "  Downloading et_xmlfile-2.0.0-py3-none-any.whl.metadata (2.7 kB)\n",
      "Downloading openpyxl-3.1.5-py2.py3-none-any.whl (250 kB)\n",
      "Downloading et_xmlfile-2.0.0-py3-none-any.whl (18 kB)\n",
      "Installing collected packages: et-xmlfile, openpyxl\n",
      "Successfully installed et-xmlfile-2.0.0 openpyxl-3.1.5\n"
     ]
    }
   ],
   "source": [
    "!pip install openpyxl"
   ]
  },
  {
   "cell_type": "code",
   "execution_count": null,
   "metadata": {},
   "outputs": [],
   "source": [
    "#export menjadi excel\n",
    "df_list.to_excel('coba_excel.xlsx', index=False)"
   ]
  },
  {
   "cell_type": "code",
   "execution_count": 5,
   "metadata": {},
   "outputs": [
    {
     "data": {
      "text/html": [
       "<div>\n",
       "<style scoped>\n",
       "    .dataframe tbody tr th:only-of-type {\n",
       "        vertical-align: middle;\n",
       "    }\n",
       "\n",
       "    .dataframe tbody tr th {\n",
       "        vertical-align: top;\n",
       "    }\n",
       "\n",
       "    .dataframe thead th {\n",
       "        text-align: right;\n",
       "    }\n",
       "</style>\n",
       "<table border=\"1\" class=\"dataframe\">\n",
       "  <thead>\n",
       "    <tr style=\"text-align: right;\">\n",
       "      <th></th>\n",
       "      <th>Jenis</th>\n",
       "      <th>Berat (kg)</th>\n",
       "      <th>Daur Ulang</th>\n",
       "    </tr>\n",
       "  </thead>\n",
       "  <tbody>\n",
       "    <tr>\n",
       "      <th>0</th>\n",
       "      <td>Plastik</td>\n",
       "      <td>5</td>\n",
       "      <td>True</td>\n",
       "    </tr>\n",
       "    <tr>\n",
       "      <th>1</th>\n",
       "      <td>kertas</td>\n",
       "      <td>2</td>\n",
       "      <td>True</td>\n",
       "    </tr>\n",
       "    <tr>\n",
       "      <th>2</th>\n",
       "      <td>Logam</td>\n",
       "      <td>3</td>\n",
       "      <td>True</td>\n",
       "    </tr>\n",
       "    <tr>\n",
       "      <th>3</th>\n",
       "      <td>Kaca</td>\n",
       "      <td>4</td>\n",
       "      <td>False</td>\n",
       "    </tr>\n",
       "  </tbody>\n",
       "</table>\n",
       "</div>"
      ],
      "text/plain": [
       "     Jenis  Berat (kg)  Daur Ulang\n",
       "0  Plastik           5        True\n",
       "1   kertas           2        True\n",
       "2    Logam           3        True\n",
       "3     Kaca           4       False"
      ]
     },
     "execution_count": 5,
     "metadata": {},
     "output_type": "execute_result"
    }
   ],
   "source": [
    "import pandas as pd\n",
    "\n",
    "#Baca file Excel (import)\n",
    "df_excel = pd.read_excel('coba_excel.xlsx', sheet_name='Sheet1')\n",
    "df_excel"
   ]
  },
  {
   "cell_type": "code",
   "execution_count": 2,
   "metadata": {},
   "outputs": [
    {
     "name": "stdout",
     "output_type": "stream",
     "text": [
      "\n",
      "Data untuk lokasi ke-1:\n",
      "\n",
      "Rata-rata jumlah sampah:\n",
      "Rata-rata sampah plastik: 267.00 kg\n",
      "Rata-rata sampah organik: 292.00 kg\n",
      "Rata-rata sampah logam: 988.00 kg\n",
      "\n",
      "Lokasi yang memiliki sampah berlebih:\n",
      "Tidak ada lokasi dengan sampah berlebih.\n",
      "\n",
      "Lokasi yang berada dalam kisaran aman:\n",
      "-> tutu\n"
     ]
    }
   ],
   "source": [
    "def main():\n",
    "    jumlah_lokasi = int(input(\"Masukkan jumlah lokasi pengumpulan sampah: \"))\n",
    "\n",
    "    nama_lokasi = []\n",
    "    sampah_plastik = []\n",
    "    sampah_organik = []\n",
    "    sampah_logam = []\n",
    "    \n",
    "    for i in range(jumlah_lokasi):\n",
    "        print(f\"\\nData untuk lokasi ke-{i + 1}:\")\n",
    "        nama = input(\"Masukkan nama lokasi: \")\n",
    "        plastik = int(input(\"Masukkan jumlah sampah plastik (kg): \"))\n",
    "        organik = int(input(\"Masukkan jumlah sampah organik (kg): \"))\n",
    "        logam = int(input(\"Masukkan jumlah sampah logam (kg): \"))\n",
    "        \n",
    "        nama_lokasi.append(nama)\n",
    "        sampah_plastik.append(plastik)\n",
    "        sampah_organik.append(organik)\n",
    "        sampah_logam.append(logam)\n",
    "    \n",
    "    rata_rata_plastik = sum(sampah_plastik) / jumlah_lokasi\n",
    "    rata_rata_organik = sum(sampah_organik) / jumlah_lokasi\n",
    "    rata_rata_logam = sum(sampah_logam) / jumlah_lokasi\n",
    "    \n",
    "    print(\"\\nRata-rata jumlah sampah:\")\n",
    "    print(f\"Rata-rata sampah plastik: {rata_rata_plastik:.2f} kg\")\n",
    "    print(f\"Rata-rata sampah organik: {rata_rata_organik:.2f} kg\")\n",
    "    print(f\"Rata-rata sampah logam: {rata_rata_logam:.2f} kg\")\n",
    "    \n",
    "    lokasi_berlebih = []\n",
    "    lokasi_aman = []\n",
    "    \n",
    "    for i in range(jumlah_lokasi):\n",
    "        if sampah_plastik[i] > 500 or sampah_organik[i] > 300:\n",
    "            lokasi_berlebih.append(nama_lokasi[i])\n",
    "        else:\n",
    "            lokasi_aman.append(nama_lokasi[i])\n",
    "    \n",
    "    print(\"\\nLokasi yang memiliki sampah berlebih:\")\n",
    "    if lokasi_berlebih:\n",
    "        for lokasi in lokasi_berlebih:\n",
    "            print(f\"-> {lokasi}\")\n",
    "    else:\n",
    "        print(\"Tidak ada lokasi dengan sampah berlebih.\")\n",
    "    \n",
    "    print(\"\\nLokasi yang berada dalam kisaran aman:\")\n",
    "    if lokasi_aman:\n",
    "        for lokasi in lokasi_aman:\n",
    "            print(f\"-> {lokasi}\")\n",
    "    else:\n",
    "        print(\"Tidak ada lokasi yang aman.\")\n",
    "\n",
    "if __name__ == \"__main__\":\n",
    "    main()"
   ]
  },
  {
   "cell_type": "code",
   "execution_count": 8,
   "metadata": {},
   "outputs": [
    {
     "name": "stdout",
     "output_type": "stream",
     "text": [
      "Index(['id', 'kode_provinsi', 'nama_provinsi', 'kode_kabupaten_kota',\n",
      "       'nama_kabupaten_kota', 'jumlah_produksi_sampah', 'satuan', 'tahun'],\n",
      "      dtype='object')\n"
     ]
    }
   ],
   "source": [
    "import pandas as pd\n",
    "\n",
    "file_path = 'jml_sampah.xlsx'\n",
    "data = pd.read_excel(file_path)\n",
    "\n",
    "# Print the column names\n",
    "print(data.columns)\n"
   ]
  },
  {
   "cell_type": "code",
   "execution_count": 10,
   "metadata": {},
   "outputs": [
    {
     "ename": "KeyError",
     "evalue": "\"None of [Index(['Kabupaten/Kota', 'Jumlah Produksi Sampah (ton)', 'Tahun Pencatatan'], dtype='object')] are in the [columns]\"",
     "output_type": "error",
     "traceback": [
      "\u001b[1;31m---------------------------------------------------------------------------\u001b[0m",
      "\u001b[1;31mKeyError\u001b[0m                                  Traceback (most recent call last)",
      "Cell \u001b[1;32mIn[10], line 4\u001b[0m\n\u001b[0;32m      2\u001b[0m \u001b[38;5;66;03m# Ensure the correct column names are used\u001b[39;00m\n\u001b[0;32m      3\u001b[0m required_columns \u001b[38;5;241m=\u001b[39m [\u001b[38;5;124m'\u001b[39m\u001b[38;5;124mKabupaten/Kota\u001b[39m\u001b[38;5;124m'\u001b[39m, \u001b[38;5;124m'\u001b[39m\u001b[38;5;124mJumlah Produksi Sampah (ton)\u001b[39m\u001b[38;5;124m'\u001b[39m, \u001b[38;5;124m'\u001b[39m\u001b[38;5;124mTahun Pencatatan\u001b[39m\u001b[38;5;124m'\u001b[39m]\n\u001b[1;32m----> 4\u001b[0m data \u001b[38;5;241m=\u001b[39m \u001b[43mdata\u001b[49m\u001b[43m[\u001b[49m\u001b[43mrequired_columns\u001b[49m\u001b[43m]\u001b[49m\n\u001b[0;32m      5\u001b[0m missing_columns \u001b[38;5;241m=\u001b[39m [col \u001b[38;5;28;01mfor\u001b[39;00m col \u001b[38;5;129;01min\u001b[39;00m required_columns \u001b[38;5;28;01mif\u001b[39;00m col \u001b[38;5;129;01mnot\u001b[39;00m \u001b[38;5;129;01min\u001b[39;00m data\u001b[38;5;241m.\u001b[39mcolumns]\n\u001b[0;32m      6\u001b[0m \u001b[38;5;28;01mif\u001b[39;00m missing_columns:\n",
      "File \u001b[1;32mc:\\Users\\LENOVO\\OneDrive\\Dokumen\\PEMDAS\\lat_env\\Lib\\site-packages\\pandas\\core\\frame.py:4108\u001b[0m, in \u001b[0;36mDataFrame.__getitem__\u001b[1;34m(self, key)\u001b[0m\n\u001b[0;32m   4106\u001b[0m     \u001b[38;5;28;01mif\u001b[39;00m is_iterator(key):\n\u001b[0;32m   4107\u001b[0m         key \u001b[38;5;241m=\u001b[39m \u001b[38;5;28mlist\u001b[39m(key)\n\u001b[1;32m-> 4108\u001b[0m     indexer \u001b[38;5;241m=\u001b[39m \u001b[38;5;28;43mself\u001b[39;49m\u001b[38;5;241;43m.\u001b[39;49m\u001b[43mcolumns\u001b[49m\u001b[38;5;241;43m.\u001b[39;49m\u001b[43m_get_indexer_strict\u001b[49m\u001b[43m(\u001b[49m\u001b[43mkey\u001b[49m\u001b[43m,\u001b[49m\u001b[43m \u001b[49m\u001b[38;5;124;43m\"\u001b[39;49m\u001b[38;5;124;43mcolumns\u001b[39;49m\u001b[38;5;124;43m\"\u001b[39;49m\u001b[43m)\u001b[49m[\u001b[38;5;241m1\u001b[39m]\n\u001b[0;32m   4110\u001b[0m \u001b[38;5;66;03m# take() does not accept boolean indexers\u001b[39;00m\n\u001b[0;32m   4111\u001b[0m \u001b[38;5;28;01mif\u001b[39;00m \u001b[38;5;28mgetattr\u001b[39m(indexer, \u001b[38;5;124m\"\u001b[39m\u001b[38;5;124mdtype\u001b[39m\u001b[38;5;124m\"\u001b[39m, \u001b[38;5;28;01mNone\u001b[39;00m) \u001b[38;5;241m==\u001b[39m \u001b[38;5;28mbool\u001b[39m:\n",
      "File \u001b[1;32mc:\\Users\\LENOVO\\OneDrive\\Dokumen\\PEMDAS\\lat_env\\Lib\\site-packages\\pandas\\core\\indexes\\base.py:6200\u001b[0m, in \u001b[0;36mIndex._get_indexer_strict\u001b[1;34m(self, key, axis_name)\u001b[0m\n\u001b[0;32m   6197\u001b[0m \u001b[38;5;28;01melse\u001b[39;00m:\n\u001b[0;32m   6198\u001b[0m     keyarr, indexer, new_indexer \u001b[38;5;241m=\u001b[39m \u001b[38;5;28mself\u001b[39m\u001b[38;5;241m.\u001b[39m_reindex_non_unique(keyarr)\n\u001b[1;32m-> 6200\u001b[0m \u001b[38;5;28;43mself\u001b[39;49m\u001b[38;5;241;43m.\u001b[39;49m\u001b[43m_raise_if_missing\u001b[49m\u001b[43m(\u001b[49m\u001b[43mkeyarr\u001b[49m\u001b[43m,\u001b[49m\u001b[43m \u001b[49m\u001b[43mindexer\u001b[49m\u001b[43m,\u001b[49m\u001b[43m \u001b[49m\u001b[43maxis_name\u001b[49m\u001b[43m)\u001b[49m\n\u001b[0;32m   6202\u001b[0m keyarr \u001b[38;5;241m=\u001b[39m \u001b[38;5;28mself\u001b[39m\u001b[38;5;241m.\u001b[39mtake(indexer)\n\u001b[0;32m   6203\u001b[0m \u001b[38;5;28;01mif\u001b[39;00m \u001b[38;5;28misinstance\u001b[39m(key, Index):\n\u001b[0;32m   6204\u001b[0m     \u001b[38;5;66;03m# GH 42790 - Preserve name from an Index\u001b[39;00m\n",
      "File \u001b[1;32mc:\\Users\\LENOVO\\OneDrive\\Dokumen\\PEMDAS\\lat_env\\Lib\\site-packages\\pandas\\core\\indexes\\base.py:6249\u001b[0m, in \u001b[0;36mIndex._raise_if_missing\u001b[1;34m(self, key, indexer, axis_name)\u001b[0m\n\u001b[0;32m   6247\u001b[0m \u001b[38;5;28;01mif\u001b[39;00m nmissing:\n\u001b[0;32m   6248\u001b[0m     \u001b[38;5;28;01mif\u001b[39;00m nmissing \u001b[38;5;241m==\u001b[39m \u001b[38;5;28mlen\u001b[39m(indexer):\n\u001b[1;32m-> 6249\u001b[0m         \u001b[38;5;28;01mraise\u001b[39;00m \u001b[38;5;167;01mKeyError\u001b[39;00m(\u001b[38;5;124mf\u001b[39m\u001b[38;5;124m\"\u001b[39m\u001b[38;5;124mNone of [\u001b[39m\u001b[38;5;132;01m{\u001b[39;00mkey\u001b[38;5;132;01m}\u001b[39;00m\u001b[38;5;124m] are in the [\u001b[39m\u001b[38;5;132;01m{\u001b[39;00maxis_name\u001b[38;5;132;01m}\u001b[39;00m\u001b[38;5;124m]\u001b[39m\u001b[38;5;124m\"\u001b[39m)\n\u001b[0;32m   6251\u001b[0m     not_found \u001b[38;5;241m=\u001b[39m \u001b[38;5;28mlist\u001b[39m(ensure_index(key)[missing_mask\u001b[38;5;241m.\u001b[39mnonzero()[\u001b[38;5;241m0\u001b[39m]]\u001b[38;5;241m.\u001b[39munique())\n\u001b[0;32m   6252\u001b[0m     \u001b[38;5;28;01mraise\u001b[39;00m \u001b[38;5;167;01mKeyError\u001b[39;00m(\u001b[38;5;124mf\u001b[39m\u001b[38;5;124m\"\u001b[39m\u001b[38;5;132;01m{\u001b[39;00mnot_found\u001b[38;5;132;01m}\u001b[39;00m\u001b[38;5;124m not in index\u001b[39m\u001b[38;5;124m\"\u001b[39m)\n",
      "\u001b[1;31mKeyError\u001b[0m: \"None of [Index(['Kabupaten/Kota', 'Jumlah Produksi Sampah (ton)', 'Tahun Pencatatan'], dtype='object')] are in the [columns]\""
     ]
    }
   ],
   "source": [
    "data.columns = data.columns.str.strip()\n",
    "# Ensure the correct column names are used\n",
    "required_columns = ['Kabupaten/Kota', 'Jumlah Produksi Sampah (ton)', 'Tahun Pencatatan']\n",
    "data = data[required_columns]\n",
    "missing_columns = [col for col in required_columns if col not in data.columns]\n",
    "if missing_columns:\n",
    "    print(f\"Missing columns: {missing_columns}\")"
   ]
  }
 ],
 "metadata": {
  "kernelspec": {
   "display_name": "lat_env",
   "language": "python",
   "name": "python3"
  },
  "language_info": {
   "codemirror_mode": {
    "name": "ipython",
    "version": 3
   },
   "file_extension": ".py",
   "mimetype": "text/x-python",
   "name": "python",
   "nbconvert_exporter": "python",
   "pygments_lexer": "ipython3",
   "version": "3.12.7"
  }
 },
 "nbformat": 4,
 "nbformat_minor": 2
}
